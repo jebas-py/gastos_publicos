{
  "cells":[
    {
      "cell_type":"markdown",
      "source":[
        "# Bibliotecas"
      ],
      "metadata":{
        
      }
    },
    {
      "cell_type":"code",
      "source":[
        "import pandas as pd"
      ],
      "execution_count":4,
      "outputs":[
        
      ],
      "metadata":{
        
      }
    },
    {
      "cell_type":"markdown",
      "source":[
        "# Extração dados da web"
      ],
      "metadata":{
        
      }
    },
    {
      "cell_type":"markdown",
      "source":[
        "## Despesas ATUAL"
      ],
      "metadata":{
        
      }
    },
    {
      "cell_type":"code",
      "source":[
        "despesas = pd.read_csv(\n",
        "    'http:\/\/www.senado.gov.br\/bi-arqs\/Arquimedes\/Financeiro\/DespesaSenado.csv',\n",
        "    engine='python',\n",
        "    delimiter=';',\n",
        "    encoding='utf-8'\n",
        ")"
      ],
      "execution_count":5,
      "outputs":[
        
      ],
      "metadata":{
        
      }
    },
    {
      "cell_type":"markdown",
      "source":[
        "## Data carga de dados ATUAL"
      ],
      "metadata":{
        
      }
    },
    {
      "cell_type":"code",
      "source":[
        "data_carga_atual = despesas['Data da Carga da Base'].unique()[0]\n",
        "linhas_atual = despesas.shape[0]\n",
        "colunas_atual = despesas.shape[1]\n",
        "\n",
        "print(f'DATA CARGA DE DADOS ATUAL: {data_carga_atual}.')\n",
        "print(f'VOLUME DA ÚLTIMA CARGA DE DADOS: {linhas_atual} LINHAS E {colunas_atual} COLUNAS.')"
      ],
      "execution_count":6,
      "outputs":[
        {
          "name":"stdout",
          "text":[
            "DATA CARGA DE DADOS ATUAL: 21\/02\/21.\n",
            "VOLUME DA ÚLTIMA CARGA DE DADOS: 414 LINHAS E 19 COLUNAS.\n"
          ],
          "output_type":"stream"
        }
      ],
      "metadata":{
        
      }
    },
    {
      "cell_type":"markdown",
      "source":[
        "## Despesas ANTERIOR"
      ],
      "metadata":{
        
      }
    },
    {
      "cell_type":"code",
      "source":[
        "despesas_anterior = pd.read_csv(\n",
        "    '\/data\/workspace_files\/despesas_senado.csv',\n",
        "    delimiter=';'\n",
        ")\n",
        "despesas_anterior"
      ],
      "execution_count":7,
      "outputs":[
        {
          "data":{
            "text\/html":[
              "<div>\n",
              "<style scoped>\n",
              "    .dataframe tbody tr th:only-of-type {\n",
              "        vertical-align: middle;\n",
              "    }\n",
              "\n",
              "    .dataframe tbody tr th {\n",
              "        vertical-align: top;\n",
              "    }\n",
              "\n",
              "    .dataframe thead th {\n",
              "        text-align: right;\n",
              "    }\n",
              "<\/style>\n",
              "<table border=\"1\" class=\"dataframe\">\n",
              "  <thead>\n",
              "    <tr style=\"text-align: right;\">\n",
              "      <th><\/th>\n",
              "      <th>data_carga<\/th>\n",
              "      <th>exercicio_financeiro<\/th>\n",
              "      <th>acao<\/th>\n",
              "      <th>plano_orcamentario<\/th>\n",
              "      <th>grupo_despesa<\/th>\n",
              "      <th>modalidade_aplicacao<\/th>\n",
              "      <th>fonte<\/th>\n",
              "      <th>valor_dotacao_inicial<\/th>\n",
              "      <th>valor_dotacao_atualizado<\/th>\n",
              "      <th>valor_total_empenhado<\/th>\n",
              "      <th>valor_liquidado<\/th>\n",
              "      <th>valor_pago<\/th>\n",
              "    <\/tr>\n",
              "  <\/thead>\n",
              "  <tbody>\n",
              "    <tr>\n",
              "      <th>0<\/th>\n",
              "      <td>20\/02\/21<\/td>\n",
              "      <td>2021<\/td>\n",
              "      <td>CONTRIBUICOES A ENTIDADES NACIONAIS SEM EXIGEN...<\/td>\n",
              "      <td>CONTRIBUICAO A UNIAO NACIONAL DAS INSTITUICOES...<\/td>\n",
              "      <td>OUTRAS DESPESAS CORRENTES<\/td>\n",
              "      <td>TRANSF. A INST. PRIVADAS S\/ FINS LUCRATIVOS<\/td>\n",
              "      <td>RECURSOS ORDINARIOS<\/td>\n",
              "      <td>7.827600e+04<\/td>\n",
              "      <td>7.827600e+04<\/td>\n",
              "      <td>6.219600e+04<\/td>\n",
              "      <td>10366.00<\/td>\n",
              "      <td>10366.00<\/td>\n",
              "    <\/tr>\n",
              "    <tr>\n",
              "      <th>1<\/th>\n",
              "      <td>20\/02\/21<\/td>\n",
              "      <td>2021<\/td>\n",
              "      <td>CONTRIBUICOES A ENTIDADES NACIONAIS SEM EXIGEN...<\/td>\n",
              "      <td>CONTRIBUICAO AO INSTITUTO BRASILEIRO DE GOVERN...<\/td>\n",
              "      <td>OUTRAS DESPESAS CORRENTES<\/td>\n",
              "      <td>TRANSF. A INST. PRIVADAS S\/ FINS LUCRATIVOS<\/td>\n",
              "      <td>RECURSOS ORDINARIOS<\/td>\n",
              "      <td>5.923000e+03<\/td>\n",
              "      <td>5.923000e+03<\/td>\n",
              "      <td>4.881000e+03<\/td>\n",
              "      <td>4881.00<\/td>\n",
              "      <td>4881.00<\/td>\n",
              "    <\/tr>\n",
              "    <tr>\n",
              "      <th>2<\/th>\n",
              "      <td>20\/02\/21<\/td>\n",
              "      <td>2021<\/td>\n",
              "      <td>BENEFICIO ESPECIAL E DEMAIS COMPLEMENTACOES DE...<\/td>\n",
              "      <td>-<\/td>\n",
              "      <td>PESSOAL E ENCARGOS SOCIAIS<\/td>\n",
              "      <td>APLICACOES DIRETAS<\/td>\n",
              "      <td>RECURSOS LIVRES DA SEGURIDADE SOCIAL<\/td>\n",
              "      <td>3.500050e+05<\/td>\n",
              "      <td>3.500050e+05<\/td>\n",
              "      <td>0.000000e+00<\/td>\n",
              "      <td>0.00<\/td>\n",
              "      <td>0.00<\/td>\n",
              "    <\/tr>\n",
              "    <tr>\n",
              "      <th>3<\/th>\n",
              "      <td>20\/02\/21<\/td>\n",
              "      <td>2021<\/td>\n",
              "      <td>APOSENTADORIAS E PENSOES CIVIS DA UNIAO<\/td>\n",
              "      <td>-<\/td>\n",
              "      <td>PESSOAL E ENCARGOS SOCIAIS<\/td>\n",
              "      <td>APLICACOES DIRETAS<\/td>\n",
              "      <td>RECURSOS LIVRES DA SEGURIDADE SOCIAL<\/td>\n",
              "      <td>1.699027e+09<\/td>\n",
              "      <td>1.699027e+09<\/td>\n",
              "      <td>1.653640e+09<\/td>\n",
              "      <td>0.00<\/td>\n",
              "      <td>0.00<\/td>\n",
              "    <\/tr>\n",
              "    <tr>\n",
              "      <th>4<\/th>\n",
              "      <td>20\/02\/21<\/td>\n",
              "      <td>2021<\/td>\n",
              "      <td>APOSENTADORIAS E PENSOES CIVIS DA UNIAO<\/td>\n",
              "      <td>-<\/td>\n",
              "      <td>PESSOAL E ENCARGOS SOCIAIS<\/td>\n",
              "      <td>APLICACOES DIRETAS<\/td>\n",
              "      <td>CONTRIB.DO SERV.PARA O PLANO SEG.SOC.SERV.PUB<\/td>\n",
              "      <td>1.469415e+08<\/td>\n",
              "      <td>1.469415e+08<\/td>\n",
              "      <td>1.402035e+08<\/td>\n",
              "      <td>42217761.56<\/td>\n",
              "      <td>0.00<\/td>\n",
              "    <\/tr>\n",
              "    <tr>\n",
              "      <th>...<\/th>\n",
              "      <td>...<\/td>\n",
              "      <td>...<\/td>\n",
              "      <td>...<\/td>\n",
              "      <td>...<\/td>\n",
              "      <td>...<\/td>\n",
              "      <td>...<\/td>\n",
              "      <td>...<\/td>\n",
              "      <td>...<\/td>\n",
              "      <td>...<\/td>\n",
              "      <td>...<\/td>\n",
              "      <td>...<\/td>\n",
              "      <td>...<\/td>\n",
              "    <\/tr>\n",
              "    <tr>\n",
              "      <th>409<\/th>\n",
              "      <td>20\/02\/21<\/td>\n",
              "      <td>2013<\/td>\n",
              "      <td>PROCESSO LEGISLATIVO, FISCALIZACAO E REPRESENT...<\/td>\n",
              "      <td>REDE DE INTEGRACAO E PARTICIPACAO LEGISLATIVA ...<\/td>\n",
              "      <td>OUTRAS DESPESAS CORRENTES<\/td>\n",
              "      <td>APLICACOES DIRETAS<\/td>\n",
              "      <td>RECURSOS ORDINARIOS<\/td>\n",
              "      <td>2.765805e+06<\/td>\n",
              "      <td>2.765805e+06<\/td>\n",
              "      <td>2.176070e+06<\/td>\n",
              "      <td>1417360.51<\/td>\n",
              "      <td>1416130.51<\/td>\n",
              "    <\/tr>\n",
              "    <tr>\n",
              "      <th>410<\/th>\n",
              "      <td>20\/02\/21<\/td>\n",
              "      <td>2013<\/td>\n",
              "      <td>PROCESSO LEGISLATIVO, FISCALIZACAO E REPRESENT...<\/td>\n",
              "      <td>PRODUCAO E DISTRIBUICAO DE DOCUMENTOS LEGISLAT...<\/td>\n",
              "      <td>OUTRAS DESPESAS CORRENTES<\/td>\n",
              "      <td>APLICACOES DIRETAS<\/td>\n",
              "      <td>RECURSOS ORDINARIOS<\/td>\n",
              "      <td>2.368253e+07<\/td>\n",
              "      <td>2.368253e+07<\/td>\n",
              "      <td>1.520097e+07<\/td>\n",
              "      <td>13699197.65<\/td>\n",
              "      <td>13695636.00<\/td>\n",
              "    <\/tr>\n",
              "    <tr>\n",
              "      <th>411<\/th>\n",
              "      <td>20\/02\/21<\/td>\n",
              "      <td>2013<\/td>\n",
              "      <td>PROCESSO LEGISLATIVO, FISCALIZACAO E REPRESENT...<\/td>\n",
              "      <td>PRODUCAO E DISTRIBUICAO DE DOCUMENTOS LEGISLAT...<\/td>\n",
              "      <td>OUTRAS DESPESAS CORRENTES<\/td>\n",
              "      <td>APLICACOES DIRETAS - OPERACOES INTERNAS<\/td>\n",
              "      <td>RECURSOS ORDINARIOS<\/td>\n",
              "      <td>1.400000e+04<\/td>\n",
              "      <td>1.400000e+04<\/td>\n",
              "      <td>4.000000e+03<\/td>\n",
              "      <td>2000.00<\/td>\n",
              "      <td>2000.00<\/td>\n",
              "    <\/tr>\n",
              "    <tr>\n",
              "      <th>412<\/th>\n",
              "      <td>20\/02\/21<\/td>\n",
              "      <td>2013<\/td>\n",
              "      <td>PROCESSO LEGISLATIVO, FISCALIZACAO E REPRESENT...<\/td>\n",
              "      <td>PRODUCAO E DISTRIBUICAO DE DOCUMENTOS LEGISLAT...<\/td>\n",
              "      <td>INVESTIMENTOS<\/td>\n",
              "      <td>APLICACOES DIRETAS<\/td>\n",
              "      <td>RECURSOS ORDINARIOS<\/td>\n",
              "      <td>5.708800e+06<\/td>\n",
              "      <td>5.708800e+06<\/td>\n",
              "      <td>5.222148e+05<\/td>\n",
              "      <td>522214.84<\/td>\n",
              "      <td>521994.24<\/td>\n",
              "    <\/tr>\n",
              "    <tr>\n",
              "      <th>413<\/th>\n",
              "      <td>20\/02\/21<\/td>\n",
              "      <td>2013<\/td>\n",
              "      <td>CONSTRUCAO DO ANEXO III<\/td>\n",
              "      <td>-<\/td>\n",
              "      <td>INVESTIMENTOS<\/td>\n",
              "      <td>APLICACOES DIRETAS<\/td>\n",
              "      <td>RECURSOS ORDINARIOS<\/td>\n",
              "      <td>2.000000e+06<\/td>\n",
              "      <td>2.000000e+06<\/td>\n",
              "      <td>0.000000e+00<\/td>\n",
              "      <td>0.00<\/td>\n",
              "      <td>0.00<\/td>\n",
              "    <\/tr>\n",
              "  <\/tbody>\n",
              "<\/table>\n",
              "<p>414 rows × 12 columns<\/p>\n",
              "<\/div>"
            ]
          },
          "metadata":{
            
          },
          "output_type":"display_data"
        }
      ],
      "metadata":{
        
      }
    },
    {
      "cell_type":"markdown",
      "source":[
        "## Data da ANTERIOR carga de dados"
      ],
      "metadata":{
        
      }
    },
    {
      "cell_type":"code",
      "source":[
        "data_carga_anterior = despesas_anterior['data_carga'].unique()[0]\n",
        "linhas_anterior = despesas_anterior.shape[0]\n",
        "colunas_anterior = despesas_anterior.shape[1]\n",
        "\n",
        "print(f'DATA DA ÚLTIMA CARGA DE DADOS: {data_carga_anterior}.')\n",
        "print(f'VOLUME DA ÚLTIMA CARGA DE DADOS: {linhas_anterior} LINHAS E {colunas_anterior} COLUNAS.')\n",
        "print('A quantidade de colunas será menor, pois foram excluídas ao longo do tratamento.')"
      ],
      "execution_count":8,
      "outputs":[
        {
          "name":"stdout",
          "text":[
            "DATA DA ÚLTIMA CARGA DE DADOS: 20\/02\/21.\n",
            "VOLUME DA ÚLTIMA CARGA DE DADOS: 414 LINHAS E 12 COLUNAS.\n",
            "A quantidade de colunas será menor, pois foram excluídas ao longo do tratamento.\n"
          ],
          "output_type":"stream"
        }
      ],
      "metadata":{
        
      }
    },
    {
      "cell_type":"markdown",
      "source":[
        "## Informações da base"
      ],
      "metadata":{
        
      }
    },
    {
      "cell_type":"code",
      "source":[
        "despesas.info()"
      ],
      "execution_count":9,
      "outputs":[
        {
          "name":"stdout",
          "text":[
            "<class 'pandas.core.frame.DataFrame'>\n",
            "RangeIndex: 414 entries, 0 to 413\n",
            "Data columns (total 19 columns):\n",
            " #   Column                            Non-Null Count  Dtype \n",
            "---  ------                            --------------  ----- \n",
            " 0   Data da Carga da Base             414 non-null    object\n",
            " 1   Exercício Financeiro (Lan-Ef)     414 non-null    int64 \n",
            " 2   Ação (código)                     414 non-null    object\n",
            " 3   Ação (nome)                       414 non-null    object\n",
            " 4   Plano Orçamentário (código)       414 non-null    object\n",
            " 5   Plano Orçamentário (nome)         414 non-null    object\n",
            " 6   Grupo de Despesa (código)         414 non-null    int64 \n",
            " 7   Grupo de Despesa (nome)           414 non-null    object\n",
            " 8   Resultado Lei (código)            414 non-null    int64 \n",
            " 9   Resultado Lei (nome)              414 non-null    object\n",
            " 10  Modalidade de Aplicação (código)  414 non-null    int64 \n",
            " 11  Modalidade de Aplicação (nome)    414 non-null    object\n",
            " 12  Fonte (código)                    414 non-null    int64 \n",
            " 13  Fonte (nome)                      414 non-null    object\n",
            " 14  Valor dotação inicial             414 non-null    object\n",
            " 15  Valor dotação atualizada          414 non-null    object\n",
            " 16  Valor Total Empenhado             414 non-null    object\n",
            " 17  Valor Liquidado                   414 non-null    object\n",
            " 18  Valor Pago                        414 non-null    object\n",
            "dtypes: int64(5), object(14)\n",
            "memory usage: 61.6+ KB\n"
          ],
          "output_type":"stream"
        }
      ],
      "metadata":{
        
      }
    },
    {
      "cell_type":"markdown",
      "source":[
        "## Tratamento"
      ],
      "metadata":{
        
      }
    },
    {
      "cell_type":"markdown",
      "source":[
        "### Excluir colunas desnecessárias"
      ],
      "metadata":{
        
      }
    },
    {
      "cell_type":"code",
      "source":[
        "despesas.drop(\n",
        "    columns=[\n",
        "        'Ação (código)', \n",
        "        'Plano Orçamentário (código)', \n",
        "        'Grupo de Despesa (código)',\n",
        "        'Resultado Lei (código)',\n",
        "        'Resultado Lei (nome)',\n",
        "        'Modalidade de Aplicação (código)',\n",
        "        'Fonte (código)'\n",
        "    ],\n",
        "    inplace=True\n",
        ")"
      ],
      "execution_count":10,
      "outputs":[
        
      ],
      "metadata":{
        
      }
    },
    {
      "cell_type":"markdown",
      "source":[
        "### Renomear colunas"
      ],
      "metadata":{
        
      }
    },
    {
      "cell_type":"code",
      "source":[
        "#lista com novos nomes de colunas\n",
        "lista_colunas = ['data_carga', 'exercicio_financeiro', 'acao', 'plano_orcamentario', 'grupo_despesa',\n",
        "    'modalidade_aplicacao', 'fonte','valor_dotacao_inicial', 'valor_dotacao_atualizado', 'valor_total_empenhado',\n",
        "    'valor_liquidado','valor_pago']\n",
        "\n",
        "#iteração entre a lista e as colunas do DataFrame para criar o dicionário com os novos nomes\n",
        "dicionario_colunas = {}\n",
        "for i in range(len(despesas.columns)):\n",
        "    dicionario_temp = {despesas.columns[i]: lista_colunas[i]}\n",
        "    dicionario_colunas.update(dicionario_temp)\n",
        "\n",
        "#altera o nome das colunas no DataFrame\n",
        "despesas.rename(\n",
        "    columns=dicionario_colunas,\n",
        "    inplace=True\n",
        ")"
      ],
      "execution_count":11,
      "outputs":[
        
      ],
      "metadata":{
        
      }
    },
    {
      "cell_type":"markdown",
      "source":[
        "### Ajuste da categoria das variáveis"
      ],
      "metadata":{
        
      }
    },
    {
      "cell_type":"code",
      "source":[
        "lista_colunas = ['valor_dotacao_inicial', 'valor_dotacao_atualizado', 'valor_total_empenhado','valor_liquidado','valor_pago']\n",
        "\n",
        "for coluna in lista_colunas:\n",
        "    despesas[coluna] = despesas[coluna].str.replace(',', '.')\n",
        "    despesas[coluna] = despesas[coluna].astype(dtype=float)"
      ],
      "execution_count":12,
      "outputs":[
        
      ],
      "metadata":{
        
      }
    },
    {
      "cell_type":"markdown",
      "source":[
        "## Gravar arquivo modificado"
      ],
      "metadata":{
        
      }
    },
    {
      "cell_type":"markdown",
      "source":[
        "### <font color=red>Somente fazer a gravação e sobreposição do arquivo se verificado que o mesmo está OK"
      ],
      "metadata":{
        
      }
    },
    {
      "cell_type":"code",
      "source":[
        "'''despesas.to_csv(\n",
        "    '\/data\/workspace_files\/despesas_senado.csv',\n",
        "    sep=';',\n",
        "    index=False\n",
        ")'''"
      ],
      "execution_count":13,
      "outputs":[
        
      ],
      "metadata":{
        
      }
    }
  ],
  "metadata":{
    
  },
  "nbformat":4,
  "nbformat_minor":0
}