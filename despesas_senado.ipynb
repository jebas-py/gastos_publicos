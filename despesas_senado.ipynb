{
 "cells": [
  {
   "cell_type": "markdown",
   "metadata": {},
   "source": [
    "# Versão e Bibliotecas"
   ]
  },
  {
   "cell_type": "code",
   "execution_count": 9,
   "metadata": {},
   "outputs": [
    {
     "name": "stdout",
     "output_type": "stream",
     "text": [
      "Pandas versão: 1.1.3\n"
     ]
    }
   ],
   "source": [
    "#versão do Pandas utilizada foi a '1.1.3 / se houver atualização o notebook instalará versão original\n",
    "import pandas as pd\n",
    "\n",
    "versao = pd.__version__\n",
    "\n",
    "if versao != '1.1.3':\n",
    "    !pip install pandas==1.1.3\n",
    "    print(f'Pandas versão alterada para {versao}')\n",
    "else:\n",
    "    print(f'Pandas versão: {versao}')"
   ]
  },
  {
   "cell_type": "markdown",
   "metadata": {},
   "source": [
    "# Backup arquivo anterior"
   ]
  },
  {
   "cell_type": "code",
   "execution_count": 2,
   "metadata": {},
   "outputs": [
    {
     "name": "stdout",
     "output_type": "stream",
     "text": [
      "BACKUP = OK\n"
     ]
    }
   ],
   "source": [
    "try:\n",
    "    backup = pd.read_csv(\n",
    "        'despesas_senado.csv',\n",
    "        engine='python',\n",
    "        delimiter=';',\n",
    "        encoding='utf-8'\n",
    "    )\n",
    "\n",
    "    backup.to_csv(\n",
    "        'despesas_senado_backup.csv',\n",
    "        sep=';',\n",
    "        encoding='utf-8',\n",
    "        index=False\n",
    "    )\n",
    "    print('BACKUP = OK')\n",
    "except Exception as erro:\n",
    "    print('BACKUP = ERRO')\n",
    "    print(erro)"
   ]
  },
  {
   "cell_type": "markdown",
   "metadata": {},
   "source": [
    "# Extração dados da web"
   ]
  },
  {
   "cell_type": "markdown",
   "metadata": {},
   "source": [
    "## Despesas ATUAL"
   ]
  },
  {
   "cell_type": "code",
   "execution_count": 3,
   "metadata": {},
   "outputs": [
    {
     "name": "stdout",
     "output_type": "stream",
     "text": [
      "EXTRAÇÃO WEB = OK\n"
     ]
    }
   ],
   "source": [
    "try:\n",
    "    despesas = pd.read_csv(\n",
    "        'http://www.senado.gov.br/bi-arqs/Arquimedes/Financeiro/DespesaSenado.csv',\n",
    "        engine='python',\n",
    "        delimiter=';',\n",
    "        encoding='utf-8'\n",
    "    )\n",
    "    print('EXTRAÇÃO WEB = OK')\n",
    "except Exception as erro:\n",
    "    print('extração web = erro')\n",
    "    print(erro)"
   ]
  },
  {
   "cell_type": "markdown",
   "metadata": {},
   "source": [
    "## Data carga de dados ATUAL"
   ]
  },
  {
   "cell_type": "code",
   "execution_count": 5,
   "metadata": {},
   "outputs": [
    {
     "name": "stdout",
     "output_type": "stream",
     "text": [
      "DATA CARGA DE DADOS ATUAL: 25/02/21.\n",
      "VOLUME DA CARGA DE DADOS: 418 LINHAS E 19 COLUNAS.\n"
     ]
    }
   ],
   "source": [
    "data_carga_atual = despesas['Data da Carga da Base'].unique()[0]\n",
    "linhas_atual, colunas_atual = despesas.shape\n",
    "\n",
    "print(f'DATA CARGA DE DADOS ATUAL: {data_carga_atual}.')\n",
    "print(f'VOLUME DA CARGA DE DADOS: {linhas_atual} LINHAS E {colunas_atual} COLUNAS.')"
   ]
  },
  {
   "cell_type": "markdown",
   "metadata": {},
   "source": [
    "## Informações da base"
   ]
  },
  {
   "cell_type": "code",
   "execution_count": 8,
   "metadata": {},
   "outputs": [
    {
     "name": "stdout",
     "output_type": "stream",
     "text": [
      "INFORMAÇÕES DA BASE DE DADOS\n",
      "=-=-=-=-=-=-=-=-=-=-=-=-=-=-=-=-=-=-=-=-=-=-=-=-=-=-=-=-=-=-\n",
      "<class 'pandas.core.frame.DataFrame'>\n",
      "RangeIndex: 418 entries, 0 to 417\n",
      "Data columns (total 19 columns):\n",
      " #   Column                            Non-Null Count  Dtype \n",
      "---  ------                            --------------  ----- \n",
      " 0   Data da Carga da Base             418 non-null    object\n",
      " 1   Exercício Financeiro (Lan-Ef)     418 non-null    int64 \n",
      " 2   Ação (código)                     418 non-null    object\n",
      " 3   Ação (nome)                       418 non-null    object\n",
      " 4   Plano Orçamentário (código)       418 non-null    object\n",
      " 5   Plano Orçamentário (nome)         418 non-null    object\n",
      " 6   Grupo de Despesa (código)         418 non-null    int64 \n",
      " 7   Grupo de Despesa (nome)           418 non-null    object\n",
      " 8   Resultado Lei (código)            418 non-null    int64 \n",
      " 9   Resultado Lei (nome)              418 non-null    object\n",
      " 10  Modalidade de Aplicação (código)  418 non-null    int64 \n",
      " 11  Modalidade de Aplicação (nome)    418 non-null    object\n",
      " 12  Fonte (código)                    418 non-null    int64 \n",
      " 13  Fonte (nome)                      418 non-null    object\n",
      " 14  Valor dotação inicial             418 non-null    object\n",
      " 15  Valor dotação atualizada          418 non-null    object\n",
      " 16  Valor Total Empenhado             418 non-null    object\n",
      " 17  Valor Liquidado                   418 non-null    object\n",
      " 18  Valor Pago                        418 non-null    object\n",
      "dtypes: int64(5), object(14)\n",
      "memory usage: 62.2+ KB\n"
     ]
    }
   ],
   "source": [
    "print('INFORMAÇÕES DA BASE DE DADOS')\n",
    "print( '=-' * 30)\n",
    "despesas.info()"
   ]
  },
  {
   "cell_type": "markdown",
   "metadata": {},
   "source": [
    "## Tratamento"
   ]
  },
  {
   "cell_type": "markdown",
   "metadata": {},
   "source": [
    "### Excluir colunas desnecessárias"
   ]
  },
  {
   "cell_type": "code",
   "execution_count": 9,
   "metadata": {},
   "outputs": [
    {
     "name": "stdout",
     "output_type": "stream",
     "text": [
      "EXCLUSÃO COLUNAS = OK\n"
     ]
    }
   ],
   "source": [
    "try:\n",
    "    despesas.drop(\n",
    "        columns=[\n",
    "            'Ação (código)', \n",
    "            'Plano Orçamentário (código)', \n",
    "            'Grupo de Despesa (código)',\n",
    "            'Resultado Lei (código)',\n",
    "            'Resultado Lei (nome)',\n",
    "            'Modalidade de Aplicação (código)',\n",
    "            'Fonte (código)'\n",
    "        ],\n",
    "        inplace=True\n",
    "    )\n",
    "    print('EXCLUSÃO COLUNAS = OK')\n",
    "except Exception as erro:\n",
    "    print('EXCLUSÃO COLUNAS = ERRO')\n",
    "    print(erro)"
   ]
  },
  {
   "cell_type": "markdown",
   "metadata": {},
   "source": [
    "### Renomear colunas"
   ]
  },
  {
   "cell_type": "code",
   "execution_count": 10,
   "metadata": {},
   "outputs": [
    {
     "name": "stdout",
     "output_type": "stream",
     "text": [
      "RENOMEAR COLUNAS = OK\n"
     ]
    }
   ],
   "source": [
    "#lista com novos nomes de colunas\n",
    "lista_colunas = ['data_carga', 'exercicio_financeiro', 'acao', 'plano_orcamentario', 'grupo_despesa',\n",
    "    'modalidade_aplicacao', 'fonte','valor_dotacao_inicial', 'valor_dotacao_atualizado', 'valor_total_empenhado',\n",
    "    'valor_liquidado','valor_pago']\n",
    "\n",
    "#iteração entre a lista e as colunas do DataFrame para criar o dicionário com os novos nomes\n",
    "try:\n",
    "    dicionario_colunas = {}\n",
    "    for i in range(len(despesas.columns)):\n",
    "        dicionario_temp = {despesas.columns[i]: lista_colunas[i]}\n",
    "        dicionario_colunas.update(dicionario_temp)\n",
    "\n",
    "    #altera o nome das colunas no DataFrame\n",
    "    despesas.rename(\n",
    "        columns=dicionario_colunas,\n",
    "        inplace=True\n",
    "    )\n",
    "    print('RENOMEAR COLUNAS = OK')\n",
    "except Exception as erro:\n",
    "    print('RENOMEAR COLUNAS = ERRO')\n",
    "    print(erro)"
   ]
  },
  {
   "cell_type": "markdown",
   "metadata": {},
   "source": [
    "### Ajuste da categoria das variáveis"
   ]
  },
  {
   "cell_type": "code",
   "execution_count": 11,
   "metadata": {},
   "outputs": [
    {
     "name": "stdout",
     "output_type": "stream",
     "text": [
      "ALTERAÇÃO DTYPES = OK\n"
     ]
    }
   ],
   "source": [
    "lista_colunas = ['valor_dotacao_inicial', 'valor_dotacao_atualizado', 'valor_total_empenhado','valor_liquidado','valor_pago']\n",
    "\n",
    "try:\n",
    "    for coluna in lista_colunas:\n",
    "        despesas[coluna] = despesas[coluna].str.replace(',', '.')\n",
    "        despesas[coluna] = despesas[coluna].astype(dtype=float)\n",
    "    print('ALTERAÇÃO DTYPES = OK')\n",
    "except Exception as erro:\n",
    "    print('ALTERAÇÃO DTYPES = ERRO')\n",
    "    print(erro)"
   ]
  },
  {
   "cell_type": "markdown",
   "metadata": {},
   "source": [
    "## Informações Final da Base"
   ]
  },
  {
   "cell_type": "code",
   "execution_count": 1,
   "metadata": {},
   "outputs": [
    {
     "name": "stdout",
     "output_type": "stream",
     "text": [
      "INFORMAÇÕES FINAL DA BASE DE DADOS\n",
      "=-=-=-=-=-=-=-=-=-=-=-=-=-=-=-=-=-=-=-=-=-=-=-=-=-=-=-=-=-=-\n"
     ]
    },
    {
     "ename": "NameError",
     "evalue": "name 'despesas' is not defined",
     "output_type": "error",
     "traceback": [
      "\u001b[1;31m---------------------------------------------------------------------------\u001b[0m",
      "\u001b[1;31mNameError\u001b[0m                                 Traceback (most recent call last)",
      "\u001b[1;32m<ipython-input-1-176900e7aaba>\u001b[0m in \u001b[0;36m<module>\u001b[1;34m\u001b[0m\n\u001b[0;32m      1\u001b[0m \u001b[0mprint\u001b[0m\u001b[1;33m(\u001b[0m\u001b[1;34m'INFORMAÇÕES FINAL DA BASE DE DADOS'\u001b[0m\u001b[1;33m)\u001b[0m\u001b[1;33m\u001b[0m\u001b[1;33m\u001b[0m\u001b[0m\n\u001b[0;32m      2\u001b[0m \u001b[0mprint\u001b[0m\u001b[1;33m(\u001b[0m \u001b[1;34m'=-'\u001b[0m \u001b[1;33m*\u001b[0m \u001b[1;36m30\u001b[0m\u001b[1;33m)\u001b[0m\u001b[1;33m\u001b[0m\u001b[1;33m\u001b[0m\u001b[0m\n\u001b[1;32m----> 3\u001b[1;33m \u001b[0mdespesas\u001b[0m\u001b[1;33m.\u001b[0m\u001b[0minfo\u001b[0m\u001b[1;33m(\u001b[0m\u001b[1;33m)\u001b[0m\u001b[1;33m\u001b[0m\u001b[1;33m\u001b[0m\u001b[0m\n\u001b[0m",
      "\u001b[1;31mNameError\u001b[0m: name 'despesas' is not defined"
     ]
    }
   ],
   "source": [
    "print('INFORMAÇÕES FINAL DA BASE DE DADOS')\n",
    "print( '=-' * 30)\n",
    "despesas.info()"
   ]
  },
  {
   "cell_type": "markdown",
   "metadata": {},
   "source": [
    "## Gravar arquivo modificado"
   ]
  },
  {
   "cell_type": "markdown",
   "metadata": {},
   "source": [
    "### <font color=red>Somente fazer a gravação e sobreposição do arquivo se verificado que o mesmo está OK"
   ]
  },
  {
   "cell_type": "code",
   "execution_count": 13,
   "metadata": {},
   "outputs": [
    {
     "name": "stdout",
     "output_type": "stream",
     "text": [
      "GRAVAÇÃO ARQUIVO = OK\n",
      "ARQUIVO SALVO NO DIRETÓRIO: PUBLICAM DATA >> SUBPROJETOS >> GASTOS_PUBLICOS >> SENADO_FEDERAL\n"
     ]
    }
   ],
   "source": [
    "try:   \n",
    "    despesas.to_csv(\n",
    "        'despesas_senado.csv',\n",
    "        sep=';',\n",
    "        encoding='utf-8',\n",
    "        index=False\n",
    "    )\n",
    "    print('GRAVAÇÃO ARQUIVO = OK')\n",
    "    print('ARQUIVO SALVO NO DIRETÓRIO: PUBLICAM DATA >> SUBPROJETOS >> GASTOS_PUBLICOS >> SENADO_FEDERAL')\n",
    "except Exception as erro:\n",
    "    print('GRAVAÇÃO ARQUIVO = ERRO')\n",
    "    print(erro)"
   ]
  },
  {
   "cell_type": "code",
   "execution_count": 0,
   "metadata": {},
   "outputs": [],
   "source": []
  }
 ],
 "metadata": {
  "kernelspec": {
   "display_name": "Python 3",
   "language": "python",
   "name": "python3"
  },
  "language_info": {
   "codemirror_mode": {
    "name": "ipython",
    "version": 3
   },
   "file_extension": ".py",
   "mimetype": "text/x-python",
   "name": "python",
   "nbconvert_exporter": "python",
   "pygments_lexer": "ipython3",
   "version": "3.7.9"
  }
 },
 "nbformat": 4,
 "nbformat_minor": 1
}
