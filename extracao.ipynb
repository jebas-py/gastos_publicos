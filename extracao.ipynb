{
 "cells": [
  {
   "cell_type": "markdown",
   "metadata": {},
   "source": [
    "# Versão e Bibliotecas"
   ]
  },
  {
   "cell_type": "code",
   "execution_count": null,
   "metadata": {},
   "outputs": [],
   "source": [
    "#versão do Pandas utilizada foi a '1.1.3 / se houver atualização o notebook instalará versão original\n",
    "import pandas as pd\n",
    "\n",
    "versao = pd.__version__\n",
    "if versao != '1.1.3':\n",
    "    !pip install pandas==1.1.3\n",
    "    print(f'Pandas versão: {versao}')\n",
    "else:\n",
    "    print(f'Pandas versão: {versao}')"
   ]
  },
  {
   "cell_type": "markdown",
   "metadata": {},
   "source": [
    "# Funções"
   ]
  },
  {
   "cell_type": "markdown",
   "metadata": {},
   "source": [
    "## título"
   ]
  },
  {
   "cell_type": "code",
   "execution_count": null,
   "metadata": {},
   "outputs": [],
   "source": [
    "def titulo(titulo):\n",
    "    print('=-' * 40)\n",
    "    print(f'{titulo:^80}')\n",
    "    print('=-' * 40)"
   ]
  },
  {
   "cell_type": "markdown",
   "metadata": {},
   "source": [
    "## backup"
   ]
  },
  {
   "cell_type": "code",
   "execution_count": null,
   "metadata": {},
   "outputs": [],
   "source": [
    "def backup(nome_arquivo, nome_backup):\n",
    "    from pandas import read_csv\n",
    "    try:\n",
    "        backup = read_csv(\n",
    "            nome_arquivo,\n",
    "            engine='python',\n",
    "            delimiter=';',\n",
    "            encoding='utf-8'\n",
    "        )\n",
    "\n",
    "        backup.to_csv(\n",
    "            nome_backup,\n",
    "            sep=';',\n",
    "            encoding='utf-8',\n",
    "            index=False\n",
    "        )\n",
    "        print('BACKUP = OK')\n",
    "    except Exception as erro:\n",
    "        print(f'BACKUP = ERRO {erro}')"
   ]
  },
  {
   "cell_type": "markdown",
   "metadata": {},
   "source": [
    "## informações do arquivo"
   ]
  },
  {
   "cell_type": "code",
   "execution_count": null,
   "metadata": {},
   "outputs": [],
   "source": [
    "def informacoes_arquivo(tabela):\n",
    "    linhas, colunas = tabela.shape\n",
    "    print(f'ARQUIVO CARREGADO COM {linhas} LINHAS E {colunas} COLUNAS.')\n",
    "    print(f'DETALHE DO ARQUIVO:')\n",
    "    print(tabela.info())"
   ]
  },
  {
   "cell_type": "markdown",
   "metadata": {},
   "source": [
    "## exclui_coluna"
   ]
  },
  {
   "cell_type": "code",
   "execution_count": null,
   "metadata": {},
   "outputs": [],
   "source": [
    "def exclui_colunas(*colunas, tabela):\n",
    "    #lista de colunas a serem excluídas\n",
    "    lista_coluna = list(colunas)\n",
    "\n",
    "    #exclusão das colunas selecionadas\n",
    "    try:\n",
    "        from pandas import DataFrame\n",
    "        DataFrame(tabela)\n",
    "        tabela.drop(\n",
    "            columns=lista_coluna,\n",
    "            inplace=True\n",
    "        )\n",
    "        print('EXCLUSÃO DAS COLUNAS = OK')\n",
    "    except Exception as erro:\n",
    "        print(f'EXCLUSÃO DAS COLUNAS = ERRO ({erro})')"
   ]
  },
  {
   "cell_type": "markdown",
   "metadata": {},
   "source": [
    "## renomeia_colunas"
   ]
  },
  {
   "cell_type": "code",
   "execution_count": null,
   "metadata": {},
   "outputs": [],
   "source": [
    "def renomeia_colunas(*colunas, tabela):\n",
    "    #lista com novos nomes de colunas\n",
    "    lista_colunas = list(colunas)\n",
    "\n",
    "    #iteração entre a lista e as colunas do DataFrame para criar o dicionário com os novos nomes\n",
    "    try:\n",
    "        dicionario_colunas = {}\n",
    "        for item in range(len(lista_colunas)):\n",
    "            dicionario_temp = {tabela.columns[item]: lista_colunas[item]}\n",
    "            dicionario_colunas.update(dicionario_temp)\n",
    "\n",
    "    #altera o nome das colunas no DataFrame\n",
    "        tabela.rename(\n",
    "            columns=dicionario_colunas,\n",
    "            inplace=True\n",
    "        )\n",
    "        print('RENOMEAR COLUNAS = OK')\n",
    "    except Exception as erro:\n",
    "        print(f'RENOMEAR COLUNAS = ERRO {erro}')"
   ]
  },
  {
   "cell_type": "markdown",
   "metadata": {},
   "source": [
    "## alteração de dtype"
   ]
  },
  {
   "cell_type": "code",
   "execution_count": null,
   "metadata": {},
   "outputs": [],
   "source": [
    "def altera_dtypes(*colunas, tabela):\n",
    "     #lista com as colunas a serem alteradas\n",
    "    lista_colunas = list(colunas)\n",
    "\n",
    "    #iteração para alterar as característica de cada coluna\n",
    "    try:\n",
    "        for coluna in lista_colunas:\n",
    "            tabela[coluna] = tabela[coluna].str.replace(',', '.')\n",
    "            tabela[coluna] = tabela[coluna].astype(dtype=float)\n",
    "        print('ALTERAÇÃO DTYPES = OK')\n",
    "        print('DESCRIÇÃO DO ARQUIVO ALTERADO:')\n",
    "        print(tabela.info())\n",
    "    except Exception as erro:\n",
    "        print(f'ALTERAÇÃO DTYPES = ERRO {erro}')"
   ]
  },
  {
   "cell_type": "markdown",
   "metadata": {},
   "source": [
    "## salva o arquivo"
   ]
  },
  {
   "cell_type": "code",
   "execution_count": null,
   "metadata": {},
   "outputs": [],
   "source": [
    "def salva_arquivo(arquivo, nome_arquivo):\n",
    "    try:\n",
    "        arquivo.to_csv(\n",
    "            nome_arquivo,\n",
    "            sep=';',\n",
    "            encoding='utf-8',\n",
    "            index=False\n",
    "        )\n",
    "        print('GRAVAÇÃO ARQUIVO = OK')\n",
    "        print('ARQUIVO SALVO NO DIRETÓRIO: PUBLICAM DATA >> SUBPROJETOS >> GASTOS_PUBLICOS >> SENADO_FEDERAL')\n",
    "    except Exception as erro:\n",
    "        print('GRAVAÇÃO ARQUIVO = ERRO')\n",
    "        print(erro)"
   ]
  },
  {
   "cell_type": "markdown",
   "metadata": {},
   "source": [
    "# Tratamento dos arquivos"
   ]
  },
  {
   "cell_type": "markdown",
   "metadata": {},
   "source": [
    "## Despesas"
   ]
  },
  {
   "cell_type": "code",
   "execution_count": null,
   "metadata": {},
   "outputs": [],
   "source": [
    "titulo('PROCESSAMENTO DESPESAS')"
   ]
  },
  {
   "cell_type": "markdown",
   "metadata": {},
   "source": [
    "### Backup"
   ]
  },
  {
   "cell_type": "code",
   "execution_count": null,
   "metadata": {},
   "outputs": [],
   "source": [
    "backup('despesas_senado.csv', 'despesas_senado.backup.csv')"
   ]
  },
  {
   "cell_type": "markdown",
   "metadata": {},
   "source": [
    "### Extração da Web"
   ]
  },
  {
   "cell_type": "code",
   "execution_count": null,
   "metadata": {},
   "outputs": [],
   "source": [
    "try:\n",
    "    despesas = pd.read_csv(\n",
    "        'http://www.senado.gov.br/bi-arqs/Arquimedes/Financeiro/DespesaSenado.csv',\n",
    "        engine='python',\n",
    "        delimiter=';',\n",
    "        encoding='utf-8'\n",
    "    )\n",
    "    print('EXTRAÇÃO WEB = OK')\n",
    "except Exception as erro:\n",
    "    print(f'EXTRAÇÃO WEB = ERRO {erro}')"
   ]
  },
  {
   "cell_type": "code",
   "execution_count": null,
   "metadata": {},
   "outputs": [],
   "source": [
    "informacoes_arquivo(despesas)"
   ]
  },
  {
   "cell_type": "markdown",
   "metadata": {},
   "source": [
    "### Exclusão de colunas"
   ]
  },
  {
   "cell_type": "code",
   "execution_count": null,
   "metadata": {},
   "outputs": [],
   "source": [
    "exclui_colunas(\n",
    "    'Ação (código)', \n",
    "    'Plano Orçamentário (código)', \n",
    "    'Grupo de Despesa (código)',\n",
    "    'Resultado Lei (código)',\n",
    "    'Resultado Lei (nome)',\n",
    "    'Modalidade de Aplicação (código)',\n",
    "    'Fonte (código)',\n",
    "    tabela=despesas\n",
    ")"
   ]
  },
  {
   "cell_type": "markdown",
   "metadata": {},
   "source": [
    "### Renomeação das colunas"
   ]
  },
  {
   "cell_type": "code",
   "execution_count": null,
   "metadata": {},
   "outputs": [],
   "source": [
    "renomeia_colunas(\n",
    "    'data_carga',\n",
    "    'exercicio_financeiro',\n",
    "    'acao',\n",
    "    'plano_orcamentario', \n",
    "    'grupo_despesa',\n",
    "    'modalidade_aplicacao',\n",
    "    'fonte',\n",
    "    'valor_dotacao_inicial', \n",
    "    'valor_dotacao_atualizado',\n",
    "    'valor_total_empenhado',\n",
    "    'valor_liquidado',\n",
    "    'valor_pago',\n",
    "    tabela=despesas                 \n",
    ")"
   ]
  },
  {
   "cell_type": "markdown",
   "metadata": {},
   "source": [
    "### Alteração dos dtypes"
   ]
  },
  {
   "cell_type": "code",
   "execution_count": null,
   "metadata": {},
   "outputs": [],
   "source": [
    "altera_dtypes(\n",
    "    'valor_dotacao_inicial',\n",
    "    'valor_dotacao_atualizado',\n",
    "    'valor_total_empenhado',\n",
    "    'valor_liquidado',\n",
    "    'valor_pago',\n",
    "    tabela=despesas\n",
    ")"
   ]
  },
  {
   "cell_type": "code",
   "execution_count": null,
   "metadata": {},
   "outputs": [],
   "source": [
    "salva_arquivo(despesas, 'despesas_senado.csv')"
   ]
  },
  {
   "cell_type": "markdown",
   "metadata": {},
   "source": [
    "## Receitas"
   ]
  },
  {
   "cell_type": "code",
   "execution_count": null,
   "metadata": {},
   "outputs": [],
   "source": [
    "titulo('Processamento Receitas')"
   ]
  },
  {
   "cell_type": "code",
   "execution_count": null,
   "metadata": {},
   "outputs": [],
   "source": [
    "#backup('receitas_senado.csv', 'receitas_senado_backup.csv')"
   ]
  },
  {
   "cell_type": "markdown",
   "metadata": {},
   "source": [
    "### Backup"
   ]
  },
  {
   "cell_type": "code",
   "execution_count": null,
   "metadata": {},
   "outputs": [],
   "source": [
    "backup('receitas_senado.csv', 'receitas_senado_backup.csv')"
   ]
  },
  {
   "cell_type": "markdown",
   "metadata": {},
   "source": [
    "### Extração da web"
   ]
  },
  {
   "cell_type": "code",
   "execution_count": null,
   "metadata": {},
   "outputs": [],
   "source": [
    "try:\n",
    "    receitas = pd.read_csv(\n",
    "        'http://www.senado.gov.br/bi-arqs/Arquimedes/Financeiro/ReceitasSenado.csv',\n",
    "        engine='python',\n",
    "        delimiter=';',\n",
    "        encoding='ISO-8859-1'\n",
    "    )\n",
    "    print(f'EXTRAÇÃO DE DADOS = OK')\n",
    "except Exception as erro:\n",
    "    data_extracao = date.today()\n",
    "    print(f'EXTRAÇÃO DE DADOS = ERRO {erro}')"
   ]
  },
  {
   "cell_type": "code",
   "execution_count": null,
   "metadata": {},
   "outputs": [],
   "source": [
    "informacoes_arquivo(receitas)"
   ]
  },
  {
   "cell_type": "markdown",
   "metadata": {},
   "source": [
    "### Exclusão de colunas"
   ]
  },
  {
   "cell_type": "code",
   "execution_count": null,
   "metadata": {},
   "outputs": [],
   "source": [
    "exclui_colunas(\n",
    "    'Categoria econômica', \n",
    "    'Alínea / Desdobramento', \n",
    "    'Código natureza de receita',\n",
    "    'Natureza de receita',\n",
    "    tabela=receitas\n",
    ")"
   ]
  },
  {
   "cell_type": "markdown",
   "metadata": {},
   "source": [
    "### Separação das colunas Órgão, Origem e Espécie"
   ]
  },
  {
   "cell_type": "code",
   "execution_count": null,
   "metadata": {},
   "outputs": [],
   "source": [
    "try:\n",
    "    #fazer o split das colunas pelo traço\n",
    "    orgao = receitas['Órgão'].str.split(' - ', n=1, expand=True)[1]\n",
    "    origem = receitas['Origem'].str.split(' - ', n=2, expand=True)[1] #opção coluna com mais valores\n",
    "    especie = receitas['Espécie'].str.split(' - ', n=2, expand=True)[1] #opção coluna com mais valores\n",
    "\n",
    "    #atribuir os resultados às respectivas colunas\n",
    "    receitas['Órgão'] = orgao\n",
    "    receitas['Origem'] = origem\n",
    "    receitas['Espécie'] = especie\n",
    "    print('SPLIT DAS COLUNAS = OK')\n",
    "except Exception as erro:\n",
    "    print('SPLIT DAS COLUNAS = ERRO')\n",
    "    print(erro)"
   ]
  },
  {
   "cell_type": "markdown",
   "metadata": {},
   "source": [
    "### Renomear colunas"
   ]
  },
  {
   "cell_type": "code",
   "execution_count": null,
   "metadata": {},
   "outputs": [],
   "source": [
    "renomeia_colunas(\n",
    "    'ano', \n",
    "    'orgao',\n",
    "    'data_carga',\n",
    "    'origem', \n",
    "    'especie',\n",
    "    'receita_prevista',\n",
    "    'receita_arrecadada',\n",
    "    tabela=receitas\n",
    ")"
   ]
  },
  {
   "cell_type": "markdown",
   "metadata": {},
   "source": [
    "### Alterar dtypes"
   ]
  },
  {
   "cell_type": "code",
   "execution_count": null,
   "metadata": {},
   "outputs": [],
   "source": [
    "altera_dtypes(\n",
    "    'receita_prevista',\n",
    "    'receita_arrecadada',\n",
    "    tabela=receitas\n",
    ")"
   ]
  },
  {
   "cell_type": "markdown",
   "metadata": {},
   "source": [
    "### Gravação do arquivo"
   ]
  },
  {
   "cell_type": "code",
   "execution_count": null,
   "metadata": {},
   "outputs": [],
   "source": [
    "salva_arquivo(receitas, 'receitas_senado.csv')"
   ]
  },
  {
   "cell_type": "markdown",
   "metadata": {},
   "source": [
    "## Servidores"
   ]
  },
  {
   "cell_type": "code",
   "execution_count": null,
   "metadata": {},
   "outputs": [],
   "source": [
    "titulo('PROCESSAMENTO SERVIDORES COMISSIONADOS E EFETIVOS')"
   ]
  },
  {
   "cell_type": "code",
   "execution_count": null,
   "metadata": {},
   "outputs": [],
   "source": [
    "backup('servidores_senado.csv', 'servidores_senado_backup.csv')"
   ]
  },
  {
   "cell_type": "markdown",
   "metadata": {},
   "source": [
    "### Extração da web"
   ]
  },
  {
   "cell_type": "code",
   "execution_count": null,
   "metadata": {},
   "outputs": [],
   "source": [
    "try:\n",
    "    servidores = pd.read_csv(\n",
    "        'http://www.senado.gov.br/transparencia/LAI/secrh/todos_csv.csv',\n",
    "        engine='python',\n",
    "        encoding='ISO-8859-1',\n",
    "        delimiter=';',\n",
    "        header=1\n",
    "    )\n",
    "    print(f'EXTRAÇÃO DE DADOS = OK')\n",
    "except Exception as erro:\n",
    "    data_extracao = date.today()\n",
    "    print(f'EXTRAÇÃO DE DADOS = ERRO {erro}')"
   ]
  },
  {
   "cell_type": "code",
   "execution_count": null,
   "metadata": {},
   "outputs": [],
   "source": [
    "informacoes_arquivo(servidores)"
   ]
  },
  {
   "cell_type": "markdown",
   "metadata": {},
   "source": [
    "### Excluir colunas"
   ]
  },
  {
   "cell_type": "code",
   "execution_count": null,
   "metadata": {},
   "outputs": [],
   "source": [
    "exclui_colunas(\n",
    "    'SETOR1',\n",
    "    'SETOR3',\n",
    "    'SETOR4',\n",
    "    'SETOR5',\n",
    "    'SETOR6',\n",
    "    'SETOR7',\n",
    "    'CARGO',\n",
    "    'CATEGORIA',\n",
    "    'AFASTAMENTO',\n",
    "    'ISENÇÃO DO PONTO                                                                                                                                                                                                                                                                                                                                                                                                                                                                                                                                                                                                                                                                                                                                                                                                                                                                                      ',\n",
    "    tabela=servidores                \n",
    ")"
   ]
  },
  {
   "cell_type": "markdown",
   "metadata": {},
   "source": [
    "### Separação das colunas SETOR2, SETOR_EXERCICIO e FUNÇÃO"
   ]
  },
  {
   "cell_type": "code",
   "execution_count": null,
   "metadata": {},
   "outputs": [],
   "source": [
    "try:\n",
    "    #fazer o split da coluna SETOR2 pelo traço\n",
    "    setor2 = servidores['SETOR2'].str.split(' - ', n=1, expand=True)[1]\n",
    "    servidores['SETOR2'] = setor2\n",
    "    \n",
    "    #fazer o split da coluna SETOR_EXERCICIO pelo traço/espaço\n",
    "    setor_exercicio = servidores['SETOR_EXERCICIO'].str.split(' - ', n=1, expand=True)[1]\n",
    "    servidores['SETOR_EXERCICIO'] = setor_exercicio\n",
    "    \n",
    "    #fazer o split da coluna FUNÇÃO pelo espaço\n",
    "    funcao = servidores['FUNÇÃO'].str.split(' ', n=1, expand=True)\n",
    "    servidores['FUNÇÃO'] = funcao\n",
    "\n",
    "    #dicionário para armazenar iteração\n",
    "    dicionario_funcao = {}\n",
    "    #iteração para concatenar o valor CHeFE DE GABIENTE\n",
    "    for i in funcao[0].unique():\n",
    "        if i == 'CHEFE':\n",
    "            dicionario_temp = {i: 'CHEFE DE GABINETE'}\n",
    "            dicionario_funcao.update(dicionario_temp)\n",
    "        else:\n",
    "            dicionario_temp = {i: i}\n",
    "            dicionario_funcao.update(dicionario_temp)\n",
    "    #altera os valores da coluna no DataFrame\n",
    "    servidores['FUNÇÃO'] = servidores['FUNÇÃO'].map(dicionario_funcao)\n",
    "    print('SEPARAÇÃO DE COLUNAS = OK')\n",
    "except Exception as erro:\n",
    "    print('SEPARAÇÃO DE COLUNAS = ERRO')\n",
    "    print(erro)"
   ]
  },
  {
   "cell_type": "markdown",
   "metadata": {},
   "source": [
    "### Renomear colunas"
   ]
  },
  {
   "cell_type": "code",
   "execution_count": null,
   "metadata": {},
   "outputs": [],
   "source": [
    "renomeia_colunas(\n",
    "    'setor',\n",
    "    'setor_exercicio',\n",
    "    'nome',\n",
    "    'tipo_vinculo',\n",
    "    'data_admissao',\n",
    "    'funcao',\n",
    "    tabela=servidores                 \n",
    ")"
   ]
  },
  {
   "cell_type": "markdown",
   "metadata": {},
   "source": [
    "### Informações do arquivo"
   ]
  },
  {
   "cell_type": "code",
   "execution_count": null,
   "metadata": {},
   "outputs": [],
   "source": [
    "#arquivo dos Servidores do senado não precisa alterar dtypes\n",
    "informacoes_arquivo(servidores)"
   ]
  },
  {
   "cell_type": "markdown",
   "metadata": {},
   "source": [
    "### Salvar arquivo"
   ]
  },
  {
   "cell_type": "code",
   "execution_count": null,
   "metadata": {},
   "outputs": [],
   "source": [
    "salva_arquivo(servidores, 'servidores_senado.csv')"
   ]
  },
  {
   "cell_type": "markdown",
   "metadata": {},
   "source": [
    "# Encerramento"
   ]
  },
  {
   "cell_type": "code",
   "execution_count": null,
   "metadata": {},
   "outputs": [],
   "source": [
    "titulo('EXTRAÇÃO E TRATAMENTO DOS ARQUIVOS ENCERRADA')"
   ]
  }
 ],
 "metadata": {
  "kernelspec": {
   "display_name": "Python 3",
   "language": "python",
   "name": "python3"
  },
  "language_info": {
   "codemirror_mode": {
    "name": "ipython",
    "version": 3
   },
   "file_extension": ".py",
   "mimetype": "text/x-python",
   "name": "python",
   "nbconvert_exporter": "python",
   "pygments_lexer": "ipython3",
   "version": "3.7.9"
  }
 },
 "nbformat": 4,
 "nbformat_minor": 1
}
