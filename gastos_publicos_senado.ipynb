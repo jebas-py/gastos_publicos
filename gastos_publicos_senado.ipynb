{
 "cells": [
  {
   "cell_type": "markdown",
   "metadata": {},
   "source": [
    "# Bibliotecas"
   ]
  },
  {
   "cell_type": "code",
   "execution_count": 1,
   "metadata": {},
   "outputs": [],
   "source": [
    "import pandas as pd"
   ]
  },
  {
   "cell_type": "markdown",
   "metadata": {},
   "source": [
    "# Extração dados da web"
   ]
  },
  {
   "cell_type": "markdown",
   "metadata": {},
   "source": [
    "## Despesas ATUAL"
   ]
  },
  {
   "cell_type": "code",
   "execution_count": 2,
   "metadata": {},
   "outputs": [],
   "source": [
    "despesas = pd.read_csv(\n",
    "    'http://www.senado.gov.br/bi-arqs/Arquimedes/Financeiro/DespesaSenado.csv',\n",
    "    engine='python',\n",
    "    delimiter=';'\n",
    ")"
   ]
  },
  {
   "cell_type": "markdown",
   "metadata": {},
   "source": [
    "## Data carga de dados ATUAL"
   ]
  },
  {
   "cell_type": "code",
   "execution_count": 3,
   "metadata": {},
   "outputs": [
    {
     "name": "stdout",
     "output_type": "stream",
     "text": [
      "DATA CARGA DE DADOS ATUAL: 20/02/21.\n",
      "VOLUME DA ÚLTIMA CARGA DE DADOS: 414 LINHAS E 19 COLUNAS.\n"
     ]
    }
   ],
   "source": [
    "data_carga_atual = despesas['Data da Carga da Base'].unique()[0]\n",
    "linhas_atual = despesas.shape[0]\n",
    "colunas_atual = despesas.shape[1]\n",
    "\n",
    "print(f'DATA CARGA DE DADOS ATUAL: {data_carga_atual}.')\n",
    "print(f'VOLUME DA ÚLTIMA CARGA DE DADOS: {linhas_atual} LINHAS E {colunas_atual} COLUNAS.')"
   ]
  },
  {
   "cell_type": "markdown",
   "metadata": {},
   "source": [
    "## Despesas ANTERIOR"
   ]
  },
  {
   "cell_type": "code",
   "execution_count": 16,
   "metadata": {},
   "outputs": [],
   "source": [
    "despesas_anterior = pd.read_csv(\n",
    "    '/data/workspace_files/despesas_senado.csv',\n",
    "    delimiter=';'\n",
    ")\n",
    "despesas_anterior"
   ]
  },
  {
   "cell_type": "markdown",
   "metadata": {},
   "source": [
    "## Data da ANTERIOR carga de dados"
   ]
  },
  {
   "cell_type": "code",
   "execution_count": 22,
   "metadata": {},
   "outputs": [
    {
     "name": "stdout",
     "output_type": "stream",
     "text": [
      "DATA DA ÚLTIMA CARGA DE DADOS: 20/02/21.\n",
      "VOLUME DA ÚLTIMA CARGA DE DADOS: 414 LINHAS E 12 COLUNAS.\n",
      "A quantidade de colunas será menor, pois foram excluídas ao longo do tratamento.\n"
     ]
    }
   ],
   "source": [
    "data_carga_anterior = despesas_anterior['data_carga'].unique()[0]\n",
    "linhas_anterior = despesas_anterior.shape[0]\n",
    "colunas_anterior = despesas_anterior.shape[1]\n",
    "\n",
    "print(f'DATA DA ÚLTIMA CARGA DE DADOS: {data_carga_anterior}.')\n",
    "print(f'VOLUME DA ÚLTIMA CARGA DE DADOS: {linhas_anterior} LINHAS E {colunas_anterior} COLUNAS.')\n",
    "print('A quantidade de colunas será menor, pois foram excluídas ao longo do tratamento.')"
   ]
  },
  {
   "cell_type": "markdown",
   "metadata": {},
   "source": [
    "## Informações da base"
   ]
  },
  {
   "cell_type": "code",
   "execution_count": 24,
   "metadata": {},
   "outputs": [
    {
     "name": "stdout",
     "output_type": "stream",
     "text": [
      "<class 'pandas.core.frame.DataFrame'>\n",
      "RangeIndex: 414 entries, 0 to 413\n",
      "Data columns (total 12 columns):\n",
      " #   Column                    Non-Null Count  Dtype  \n",
      "---  ------                    --------------  -----  \n",
      " 0   data_carga                414 non-null    object \n",
      " 1   exercicio_financeiro      414 non-null    int64  \n",
      " 2   acao                      414 non-null    object \n",
      " 3   plano_orcamentario        414 non-null    object \n",
      " 4   grupo_despesa             414 non-null    object \n",
      " 5   modalidade_aplicacao      414 non-null    object \n",
      " 6   fonte                     414 non-null    object \n",
      " 7   valor_dotacao_inicial     414 non-null    float64\n",
      " 8   valor_dotacao_atualizado  414 non-null    float64\n",
      " 9   valor_total_empenhado     414 non-null    float64\n",
      " 10  valor_liquidado           414 non-null    float64\n",
      " 11  valor_pago                414 non-null    float64\n",
      "dtypes: float64(5), int64(1), object(6)\n",
      "memory usage: 38.9+ KB\n"
     ]
    }
   ],
   "source": [
    "despesas.info()"
   ]
  },
  {
   "cell_type": "markdown",
   "metadata": {},
   "source": [
    "## Tratamento"
   ]
  },
  {
   "cell_type": "markdown",
   "metadata": {},
   "source": [
    "### Excluir colunas desnecessárias"
   ]
  },
  {
   "cell_type": "code",
   "execution_count": 6,
   "metadata": {},
   "outputs": [],
   "source": [
    "despesas.drop(\n",
    "    columns=[\n",
    "        'Ação (código)', \n",
    "        'Plano Orçamentário (código)', \n",
    "        'Grupo de Despesa (código)',\n",
    "        'Resultado Lei (código)',\n",
    "        'Resultado Lei (nome)',\n",
    "        'Modalidade de Aplicação (código)',\n",
    "        'Fonte (código)'\n",
    "    ],\n",
    "    inplace=True\n",
    ")"
   ]
  },
  {
   "cell_type": "markdown",
   "metadata": {},
   "source": [
    "### Renomear colunas"
   ]
  },
  {
   "cell_type": "code",
   "execution_count": 7,
   "metadata": {},
   "outputs": [],
   "source": [
    "#lista com novos nomes de colunas\n",
    "lista_colunas = ['data_carga', 'exercicio_financeiro', 'acao', 'plano_orcamentario', 'grupo_despesa',\n",
    "    'modalidade_aplicacao', 'fonte','valor_dotacao_inicial', 'valor_dotacao_atualizado', 'valor_total_empenhado',\n",
    "    'valor_liquidado','valor_pago']\n",
    "\n",
    "#iteração entre a lista e as colunas do DataFrame para criar o dicionário com os novos nomes\n",
    "dicionario_colunas = {}\n",
    "for i in range(len(despesas.columns)):\n",
    "    dicionario_temp = {despesas.columns[i]: lista_colunas[i]}\n",
    "    dicionario_colunas.update(dicionario_temp)\n",
    "\n",
    "#altera o nome das colunas no DataFrame\n",
    "despesas.rename(\n",
    "    columns=dicionario_colunas,\n",
    "    inplace=True\n",
    ")"
   ]
  },
  {
   "cell_type": "markdown",
   "metadata": {},
   "source": [
    "### Ajuste da categoria das variáveis"
   ]
  },
  {
   "cell_type": "code",
   "execution_count": 8,
   "metadata": {},
   "outputs": [],
   "source": [
    "lista_colunas = ['valor_dotacao_inicial', 'valor_dotacao_atualizado', 'valor_total_empenhado','valor_liquidado','valor_pago']\n",
    "\n",
    "for coluna in lista_colunas:\n",
    "    despesas[coluna] = despesas[coluna].str.replace(',', '.')\n",
    "    despesas[coluna] = despesas[coluna].astype(dtype=float)"
   ]
  },
  {
   "cell_type": "markdown",
   "metadata": {},
   "source": [
    "## Gravar arquivo modificado"
   ]
  },
  {
   "cell_type": "code",
   "execution_count": 15,
   "metadata": {},
   "outputs": [],
   "source": [
    "despesas.to_csv(\n",
    "    '/data/workspace_files/despesas_senado.csv',\n",
    "    sep=';',\n",
    "    index=False\n",
    ")"
   ]
  }
 ],
 "metadata": {
  "kernelspec": {
   "display_name": "Python 3",
   "language": "python",
   "name": "python3"
  },
  "language_info": {
   "codemirror_mode": {
    "name": "ipython",
    "version": 3
   },
   "file_extension": ".py",
   "mimetype": "text/x-python",
   "name": "python",
   "nbconvert_exporter": "python",
   "pygments_lexer": "ipython3",
   "version": "3.7.9"
  }
 },
 "nbformat": 4,
 "nbformat_minor": 1
}
