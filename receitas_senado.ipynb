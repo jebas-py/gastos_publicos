{
  "cells":[
    {
      "cell_type":"markdown",
      "source":[
        "# Bibliotecas"
      ],
      "metadata":{
        
      }
    },
    {
      "cell_type":"code",
      "source":[
        "import pandas as pd"
      ],
      "execution_count":1,
      "outputs":[
        
      ],
      "metadata":{
        
      }
    },
    {
      "cell_type":"markdown",
      "source":[
        "# Extração dados da web"
      ],
      "metadata":{
        
      }
    },
    {
      "cell_type":"markdown",
      "source":[
        "## Receitas ATUAL"
      ],
      "metadata":{
        
      }
    },
    {
      "cell_type":"code",
      "source":[
        "receitas = pd.read_csv(\n",
        "    'http:\/\/www.senado.gov.br\/bi-arqs\/Arquimedes\/Financeiro\/ReceitasSenado.csv',\n",
        "    engine='python',\n",
        "    delimiter=';',\n",
        "    encoding='ISO-8859-1'\n",
        ")\n",
        "receitas"
      ],
      "execution_count":9,
      "outputs":[
        
      ],
      "metadata":{
        
      }
    },
    {
      "cell_type":"markdown",
      "source":[
        "## Data carga de dados ATUAL"
      ],
      "metadata":{
        
      }
    },
    {
      "cell_type":"code",
      "source":[
        "data_carga_atual = receitas['Data da carga'].unique()[0]\n",
        "linhas_atual = receitas.shape[0]\n",
        "colunas_atual = receitas.shape[1]\n",
        "\n",
        "print(f'DATA CARGA DE DADOS ATUAL: {data_carga_atual}.')\n",
        "print(f'VOLUME DA ÚLTIMA CARGA DE DADOS: {linhas_atual} LINHAS E {colunas_atual} COLUNAS.')"
      ],
      "execution_count":12,
      "outputs":[
        
      ],
      "metadata":{
        
      }
    },
    {
      "cell_type":"markdown",
      "source":[
        "## Despesas ANTERIOR"
      ],
      "metadata":{
        
      }
    },
    {
      "cell_type":"code",
      "source":[
        "receitas_anterior = pd.read_csv(\n",
        "    '\/data\/workspace_files\/receitas_senado.csv',\n",
        "    delimiter=';'\n",
        ")\n",
        "receitas_anterior"
      ],
      "execution_count":25,
      "outputs":[
        
      ],
      "metadata":{
        
      }
    },
    {
      "cell_type":"markdown",
      "source":[
        "## Data da ANTERIOR carga de dados"
      ],
      "metadata":{
        
      }
    },
    {
      "cell_type":"code",
      "source":[
        "data_carga_anterior = receitas_anterior['data_carga'].unique()[0]\n",
        "linhas_anterior = receitas_anterior.shape[0]\n",
        "colunas_anterior = receitas_anterior.shape[1]\n",
        "\n",
        "print(f'DATA DA ÚLTIMA CARGA DE DADOS: {data_carga_anterior}.')\n",
        "print(f'VOLUME DA ÚLTIMA CARGA DE DADOS: {linhas_anterior} LINHAS E {colunas_anterior} COLUNAS.')\n",
        "print('A quantidade de colunas será menor, pois foram excluídas ao longo do tratamento.')"
      ],
      "execution_count":26,
      "outputs":[
        
      ],
      "metadata":{
        
      }
    },
    {
      "cell_type":"markdown",
      "source":[
        "## Informações da base"
      ],
      "metadata":{
        
      }
    },
    {
      "cell_type":"code",
      "source":[
        "receitas.info()"
      ],
      "execution_count":14,
      "outputs":[
        
      ],
      "metadata":{
        
      }
    },
    {
      "cell_type":"markdown",
      "source":[
        "## Tratamento"
      ],
      "metadata":{
        
      }
    },
    {
      "cell_type":"markdown",
      "source":[
        "### Excluir colunas desnecessárias"
      ],
      "metadata":{
        
      }
    },
    {
      "cell_type":"code",
      "source":[
        "receitas.drop(\n",
        "    columns=[\n",
        "        'Código natureza de receita'\n",
        "    ],\n",
        "    inplace=True\n",
        ")"
      ],
      "execution_count":15,
      "outputs":[
        
      ],
      "metadata":{
        
      }
    },
    {
      "cell_type":"markdown",
      "source":[
        "### Renomear colunas"
      ],
      "metadata":{
        
      }
    },
    {
      "cell_type":"code",
      "source":[
        "#lista com novos nomes de colunas\n",
        "lista_colunas = ['ano', 'orgao', 'data_carga', 'categoria_economica', 'origem',\n",
        "    'especia', 'desdobramento','natureza', 'receita_prevista', 'receita_arrecadada',\n",
        "    'valor_liquidado','valor_pago']\n",
        "\n",
        "#iteração entre a lista e as colunas do DataFrame para criar o dicionário com os novos nomes\n",
        "dicionario_colunas = {}\n",
        "for i in range(len(receitas.columns)):\n",
        "    dicionario_temp = {receitas.columns[i]: lista_colunas[i]}\n",
        "    dicionario_colunas.update(dicionario_temp)\n",
        "\n",
        "#altera o nome das colunas no DataFrame\n",
        "receitas.rename(\n",
        "    columns=dicionario_colunas,\n",
        "    inplace=True\n",
        ")"
      ],
      "execution_count":18,
      "outputs":[
        
      ],
      "metadata":{
        
      }
    },
    {
      "cell_type":"markdown",
      "source":[
        "### Ajuste da categoria das variáveis"
      ],
      "metadata":{
        
      }
    },
    {
      "cell_type":"code",
      "source":[
        "receitas.info()"
      ],
      "execution_count":22,
      "outputs":[
        
      ],
      "metadata":{
        
      }
    },
    {
      "cell_type":"code",
      "source":[
        "lista_colunas = ['receita_prevista', 'receita_arrecadada']\n",
        "\n",
        "for coluna in lista_colunas:\n",
        "    receitas[coluna] = receitas[coluna].str.replace(',', '.')\n",
        "    receitas[coluna] = receitas[coluna].astype(dtype=float)"
      ],
      "execution_count":21,
      "outputs":[
        
      ],
      "metadata":{
        
      }
    },
    {
      "cell_type":"markdown",
      "source":[
        "## Gravar arquivo modificado"
      ],
      "metadata":{
        
      }
    },
    {
      "cell_type":"code",
      "source":[
        "receitas.to_csv(\n",
        "    '\/data\/workspace_files\/receitas_senado.csv',\n",
        "    sep=';',\n",
        "    index=False\n",
        ")"
      ],
      "execution_count":24,
      "outputs":[
        
      ],
      "metadata":{
        
      }
    }
  ],
  "metadata":{
    
  },
  "nbformat":4,
  "nbformat_minor":0
}