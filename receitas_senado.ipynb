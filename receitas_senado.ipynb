{
 "cells": [
  {
   "cell_type": "markdown",
   "metadata": {},
   "source": [
    "# Versões e Bibliotecas"
   ]
  },
  {
   "cell_type": "code",
   "execution_count": 1,
   "metadata": {},
   "outputs": [
    {
     "name": "stdout",
     "output_type": "stream",
     "text": [
      "Pandas versão: 1.1.3\n"
     ]
    }
   ],
   "source": [
    "#versão do Pandas utilizada foi a '1.1.3 / se houver atualização o notebook instalará versão original\n",
    "import pandas as pd\n",
    "\n",
    "versao = pd.__version__\n",
    "if versao != '1.1.3':\n",
    "    !pip install pandas==1.1.3\n",
    "    print(f'Pandas versão: {versao}')\n",
    "else:\n",
    "    print(f'Pandas versão: {versao}')\n",
    "\n",
    "from datetime import date"
   ]
  },
  {
   "cell_type": "markdown",
   "metadata": {},
   "source": [
    "# Backup arquivo anterior"
   ]
  },
  {
   "cell_type": "code",
   "execution_count": 64,
   "metadata": {},
   "outputs": [
    {
     "name": "stdout",
     "output_type": "stream",
     "text": [
      "BACKUP = OK\n"
     ]
    }
   ],
   "source": [
    "try:\n",
    "    backup = pd.read_csv(\n",
    "        'receitas_senado.csv',\n",
    "        engine='python',\n",
    "        delimiter=';',\n",
    "        encoding='utf-8'\n",
    "    )\n",
    "\n",
    "    backup.to_csv(\n",
    "        'receitas_senado_backup.csv',\n",
    "        sep=';',\n",
    "        encoding='utf-8',\n",
    "        index=False\n",
    "    )\n",
    "    print('BACKUP = OK')\n",
    "except Exception as erro:\n",
    "    print('BACKUP = ERRO')\n",
    "    print(erro)"
   ]
  },
  {
   "cell_type": "markdown",
   "metadata": {},
   "source": [
    "# Extração dados da web"
   ]
  },
  {
   "cell_type": "code",
   "execution_count": 12,
   "metadata": {},
   "outputs": [
    {
     "name": "stdout",
     "output_type": "stream",
     "text": [
      "EXTRAÇÃO DE DADOS EM 2021-03-04 = OK\n"
     ]
    }
   ],
   "source": [
    "try:\n",
    "    receitas = pd.read_csv(\n",
    "        'http://www.senado.gov.br/bi-arqs/Arquimedes/Financeiro/ReceitasSenado.csv',\n",
    "        engine='python',\n",
    "        delimiter=';',\n",
    "        encoding='ISO-8859-1'\n",
    "    )\n",
    "    data_extracao = date.today()\n",
    "    print(f'EXTRAÇÃO DE DADOS EM {data_extracao} = OK')\n",
    "except Exception as erro:\n",
    "    data_extracao = date.today()\n",
    "    print(f'EXTRAÇÃO DE DADOS EM {data_extracao} = ERRO')\n",
    "    print(erro)"
   ]
  },
  {
   "cell_type": "markdown",
   "metadata": {},
   "source": [
    "## Informações da base de dados"
   ]
  },
  {
   "cell_type": "code",
   "execution_count": 14,
   "metadata": {},
   "outputs": [
    {
     "name": "stdout",
     "output_type": "stream",
     "text": [
      "-=-=-=-=-=-=-=-=-=-=-=-=-=-=-=-=-=-=-=-=-=-=-=-=-=-=-=-=-=-=\n",
      "ARQUIVOS COM 140 LINHAS E 11 COLUNAS.\n",
      "-=-=-=-=-=-=-=-=-=-=-=-=-=-=-=-=-=-=-=-=-=-=-=-=-=-=-=-=-=-=\n",
      "<class 'pandas.core.frame.DataFrame'>\n",
      "RangeIndex: 140 entries, 0 to 139\n",
      "Data columns (total 11 columns):\n",
      " #   Column                      Non-Null Count  Dtype \n",
      "---  ------                      --------------  ----- \n",
      " 0   Ano                         140 non-null    int64 \n",
      " 1   Órgão                       140 non-null    object\n",
      " 2   Data da carga               140 non-null    object\n",
      " 3   Categoria econômica         140 non-null    object\n",
      " 4   Origem                      140 non-null    object\n",
      " 5   Espécie                     140 non-null    object\n",
      " 6   Alínea / Desdobramento      140 non-null    object\n",
      " 7   Código natureza de receita  140 non-null    int64 \n",
      " 8   Natureza de receita         140 non-null    object\n",
      " 9   Receita prevista            140 non-null    object\n",
      " 10  Receita arrecadada líquida  140 non-null    object\n",
      "dtypes: int64(2), object(9)\n",
      "memory usage: 12.2+ KB\n",
      "None\n"
     ]
    }
   ],
   "source": [
    "linhas, colunas = receitas.shape\n",
    "\n",
    "print('-=' * 30)\n",
    "print(f'ARQUIVOS COM {linhas} LINHAS E {colunas} COLUNAS.')\n",
    "print('-=' * 30)\n",
    "\n",
    "print(receitas.info())"
   ]
  },
  {
   "cell_type": "markdown",
   "metadata": {},
   "source": [
    "## Tratamento"
   ]
  },
  {
   "cell_type": "markdown",
   "metadata": {},
   "source": [
    "### Excluir colunas desnecessárias"
   ]
  },
  {
   "cell_type": "code",
   "execution_count": 34,
   "metadata": {},
   "outputs": [
    {
     "name": "stdout",
     "output_type": "stream",
     "text": [
      "EXCLUSÃO COLUNAS = OK\n"
     ]
    }
   ],
   "source": [
    "try:\n",
    "    receitas.drop(\n",
    "        columns=[\n",
    "            'Categoria econômica', \n",
    "            'Alínea / Desdobramento', \n",
    "            'Código natureza de receita',\n",
    "            'Natureza de receita',\n",
    "        ],\n",
    "        inplace=True\n",
    "    )\n",
    "    print('EXCLUSÃO COLUNAS = OK')\n",
    "except Exception as erro:\n",
    "    print('EXCLUSÃO COLUNAS = ERRO')\n",
    "    print(erro)"
   ]
  },
  {
   "cell_type": "markdown",
   "metadata": {},
   "source": [
    "### Separar os dados das colunas Órgão, origem e Espécie"
   ]
  },
  {
   "cell_type": "code",
   "execution_count": 53,
   "metadata": {},
   "outputs": [
    {
     "name": "stdout",
     "output_type": "stream",
     "text": [
      "SPLIT DAS COLUNAS = ERRO\n",
      "1\n"
     ]
    }
   ],
   "source": [
    "try:\n",
    "    #fazer o split das colunas pelo traço\n",
    "    orgao = receitas['Órgão'].str.split(' - ', n=1, expand=True)[1]\n",
    "    origem = receitas['Origem'].str.split(' - ', n=2, expand=True)[1] #opção coluna com mais valores\n",
    "    especie = receitas['Espécie'].str.split(' - ', n=2, expand=True)[1] #opção coluna com mais valores\n",
    "\n",
    "    #atribuir os resultados às respectivas colunas\n",
    "    receitas['Órgão'] = orgao\n",
    "    receitas['Origem'] = origem\n",
    "    receitas['Espécie'] = especie\n",
    "    print('SPLIT DAS COLUNAS = OK')\n",
    "except Exception as erro:\n",
    "    print('SPLIT DAS COLUNAS = ERRO')\n",
    "    print(erro)"
   ]
  },
  {
   "cell_type": "markdown",
   "metadata": {},
   "source": [
    "### Renomear colunas"
   ]
  },
  {
   "cell_type": "code",
   "execution_count": 56,
   "metadata": {},
   "outputs": [
    {
     "name": "stdout",
     "output_type": "stream",
     "text": [
      "RENOMEAR COLUNAS = OK\n"
     ]
    }
   ],
   "source": [
    "#lista com novos nomes de colunas\n",
    "lista_colunas = ['ano', 'orgao', 'data_carga', 'origam', 'especie', 'receita_prevista', 'receita_arrecadada']\n",
    "\n",
    "#iteração entre a lista e as colunas do DataFrame para criar o dicionário com os novos nomes\n",
    "try:\n",
    "    dicionario_colunas = {}\n",
    "    for i in range(len(receitas.columns)):\n",
    "        dicionario_temp = {receitas.columns[i]: lista_colunas[i]}\n",
    "        dicionario_colunas.update(dicionario_temp)\n",
    "\n",
    "    #altera o nome das colunas no DataFrame\n",
    "    receitas.rename(\n",
    "        columns=dicionario_colunas,\n",
    "        inplace=True\n",
    "    )\n",
    "    print('RENOMEAR COLUNAS = OK')\n",
    "except Exception as erro:\n",
    "    print('RENOMEAR COLUNAS = ERRO')\n",
    "    print(erro)"
   ]
  },
  {
   "cell_type": "markdown",
   "metadata": {},
   "source": [
    "### Ajuste da categoria das variáveis"
   ]
  },
  {
   "cell_type": "code",
   "execution_count": 59,
   "metadata": {},
   "outputs": [
    {
     "name": "stdout",
     "output_type": "stream",
     "text": [
      "ALTERAÇÃO DTYPES = OK\n"
     ]
    }
   ],
   "source": [
    "lista_colunas = ['receita_prevista', 'receita_arrecadada']\n",
    "\n",
    "try:\n",
    "    for coluna in lista_colunas:\n",
    "        receitas[coluna] = receitas[coluna].str.replace(',', '.')\n",
    "        receitas[coluna] = receitas[coluna].astype(dtype=float)\n",
    "    print('ALTERAÇÃO DTYPES = OK')\n",
    "except Exception as erro:\n",
    "    print('ALTERAÇÃO DTYPES = ERRO')\n",
    "    print(erro)"
   ]
  },
  {
   "cell_type": "code",
   "execution_count": 62,
   "metadata": {},
   "outputs": [
    {
     "name": "stdout",
     "output_type": "stream",
     "text": [
      "=-=-=-=-=-=-=-=-=-=-=-=-=-=-=-=-=-=-=-=-=-=-=-=-=-=-=-=-=-=-\n",
      "FORMATO FINAL DO ARQUIVO\n",
      "=-=-=-=-=-=-=-=-=-=-=-=-=-=-=-=-=-=-=-=-=-=-=-=-=-=-=-=-=-=-\n",
      "<class 'pandas.core.frame.DataFrame'>\n",
      "RangeIndex: 140 entries, 0 to 139\n",
      "Data columns (total 7 columns):\n",
      " #   Column              Non-Null Count  Dtype  \n",
      "---  ------              --------------  -----  \n",
      " 0   ano                 140 non-null    int64  \n",
      " 1   orgao               140 non-null    object \n",
      " 2   data_carga          140 non-null    object \n",
      " 3   origam              140 non-null    object \n",
      " 4   especie             140 non-null    object \n",
      " 5   receita_prevista    140 non-null    float64\n",
      " 6   receita_arrecadada  140 non-null    float64\n",
      "dtypes: float64(2), int64(1), object(4)\n",
      "memory usage: 7.8+ KB\n",
      "None\n"
     ]
    }
   ],
   "source": [
    "print('=-' * 30)\n",
    "print('FORMATO FINAL DO ARQUIVO')\n",
    "print('=-' * 30)\n",
    "print(receitas.info())"
   ]
  },
  {
   "cell_type": "markdown",
   "metadata": {},
   "source": [
    "## Gravar arquivo modificado"
   ]
  },
  {
   "cell_type": "markdown",
   "metadata": {},
   "source": [
    "### <font color=red>Somente fazer a gravação e sobreposição do arquivo se verificado que o mesmo está OK"
   ]
  },
  {
   "cell_type": "code",
   "execution_count": 63,
   "metadata": {},
   "outputs": [
    {
     "name": "stdout",
     "output_type": "stream",
     "text": [
      "GRAVAÇÃO ARQUIVO = OK\n",
      "ARQUIVO SALVO NO DIRETÓRIO: PUBLICAM DATA >> SUBPROJETOS >> GASTOS_PUBLICOS >> SENADO_FEDERAL\n"
     ]
    }
   ],
   "source": [
    "try:   \n",
    "    receitas.to_csv(\n",
    "        'receitas_senado.csv',\n",
    "        sep=';',\n",
    "        encoding='utf-8',\n",
    "        index=False\n",
    "    )\n",
    "    print('GRAVAÇÃO ARQUIVO = OK')\n",
    "    print('ARQUIVO SALVO NO DIRETÓRIO: PUBLICAM DATA >> SUBPROJETOS >> GASTOS_PUBLICOS >> SENADO_FEDERAL')\n",
    "except Exception as erro:\n",
    "    print('GRAVAÇÃO ARQUIVO = ERRO')\n",
    "    print(erro)"
   ]
  }
 ],
 "metadata": {
  "kernelspec": {
   "display_name": "Python 3",
   "language": "python",
   "name": "python3"
  },
  "language_info": {
   "codemirror_mode": {
    "name": "ipython",
    "version": 3
   },
   "file_extension": ".py",
   "mimetype": "text/x-python",
   "name": "python",
   "nbconvert_exporter": "python",
   "pygments_lexer": "ipython3",
   "version": "3.7.9"
  }
 },
 "nbformat": 4,
 "nbformat_minor": 1
}
