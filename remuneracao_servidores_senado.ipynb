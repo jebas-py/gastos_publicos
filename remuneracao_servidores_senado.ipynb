{
 "cells": [
  {
   "cell_type": "markdown",
   "metadata": {},
   "source": [
    "# Bibliotecas"
   ]
  },
  {
   "cell_type": "code",
   "execution_count": 1,
   "metadata": {},
   "outputs": [],
   "source": [
    "import pandas as pd\n",
    "from datetime import date"
   ]
  },
  {
   "cell_type": "markdown",
   "metadata": {},
   "source": [
    "# Backup"
   ]
  },
  {
   "cell_type": "markdown",
   "metadata": {},
   "source": [
    "## Dados Backup"
   ]
  },
  {
   "cell_type": "code",
   "execution_count": 2,
   "metadata": {},
   "outputs": [
    {
     "name": "stdout",
     "output_type": "stream",
     "text": [
      "BACKUP = OK\n"
     ]
    }
   ],
   "source": [
    "try:\n",
    "    backup = pd.read_csv(\n",
    "        'remuneracao_servidores_senado.csv',\n",
    "        delimiter=';'\n",
    "    )\n",
    "    backup.to_csv(\n",
    "        'remuneracao_servidores_senado_backup.csv',\n",
    "        sep=';',\n",
    "        index=False\n",
    "    )\n",
    "    print('BACKUP = OK')\n",
    "except Exception as erro:\n",
    "    print('BACKUP = ERRO')\n",
    "    print(erro)"
   ]
  },
  {
   "cell_type": "markdown",
   "metadata": {},
   "source": [
    "# Extração dados da web"
   ]
  },
  {
   "cell_type": "code",
   "execution_count": 3,
   "metadata": {},
   "outputs": [
    {
     "name": "stdout",
     "output_type": "stream",
     "text": [
      "EXTRAÇÃO WEB = OK\n"
     ]
    }
   ],
   "source": [
    "try:\n",
    "    remuneracao = pd.read_csv(\n",
    "        'http://www.senado.leg.br/transparencia/LAI/secrh/SF_ConsultaRemuneracaoServidoresParlamentares_202101.csv',\n",
    "        engine='python',\n",
    "        delimiter=';',\n",
    "        encoding='ISO-8859-1',\n",
    "        header=1\n",
    "    )\n",
    "    print('EXTRAÇÃO WEB = OK')\n",
    "except Exception as erro:\n",
    "    print('EXTRAÇÃO WEB = ERRO')\n",
    "    print(erro)"
   ]
  },
  {
   "cell_type": "markdown",
   "metadata": {},
   "source": [
    "## Data carga de dados ATUAL"
   ]
  },
  {
   "cell_type": "code",
   "execution_count": 4,
   "metadata": {},
   "outputs": [
    {
     "name": "stdout",
     "output_type": "stream",
     "text": [
      "DATA CARGA DE DADOS ATUAL: 2021-02-25.\n",
      "VOLUME DA ÚLTIMA CARGA DE DADOS: 11056 LINHAS E 23 COLUNAS.\n"
     ]
    }
   ],
   "source": [
    "dia = date.today()\n",
    "linhas_atual, colunas_atual = remuneracao.shape\n",
    "\n",
    "print(f'DATA CARGA DE DADOS ATUAL: {dia}.')\n",
    "print(f'VOLUME DA ÚLTIMA CARGA DE DADOS: {linhas_atual} LINHAS E {colunas_atual} COLUNAS.')"
   ]
  },
  {
   "cell_type": "markdown",
   "metadata": {},
   "source": [
    "## Tratamento"
   ]
  },
  {
   "cell_type": "markdown",
   "metadata": {},
   "source": [
    "### Excluir colunas desnecessárias"
   ]
  },
  {
   "cell_type": "code",
   "execution_count": 5,
   "metadata": {},
   "outputs": [
    {
     "name": "stdout",
     "output_type": "stream",
     "text": [
      "EXCLUSÃO COLUNAS = OK\n"
     ]
    }
   ],
   "source": [
    "try:\n",
    "    remuneracao.drop(\n",
    "        columns=[\n",
    "            'REFERÊNCIA CARGO', \n",
    "            'SÍMBOLO FUNÇÃO',\n",
    "            'LOTAÇÃO EXERCÍCIO', \n",
    "            ' TIPO FOLHA'\n",
    "        ],\n",
    "        inplace=True\n",
    "    )\n",
    "    print('EXCLUSÃO COLUNAS = OK')\n",
    "except Exception as erro:\n",
    "    print('EXCLUSÃO COLUNAS = ERRO')\n",
    "    print(erro)"
   ]
  },
  {
   "cell_type": "markdown",
   "metadata": {},
   "source": [
    "### Renomear colunas"
   ]
  },
  {
   "cell_type": "code",
   "execution_count": 6,
   "metadata": {},
   "outputs": [
    {
     "name": "stdout",
     "output_type": "stream",
     "text": [
      "RENOMEAR COLUNAS = OK\n"
     ]
    }
   ],
   "source": [
    "#lista com novos nomes de colunas\n",
    "lista_colunas = ['vinculo', 'categoria', 'cargo', 'ano_exercicio', 'remuneracao_basica','vantagens_pessoais', 'funcao_comissionada',\n",
    "                'gratificacao_natalina', 'horas_extras', 'horas_eventuais','abono','reversao_teto', 'IR', 'INSS', 'falta', \n",
    "                'remuneracao_liquida', 'diarias', 'auxilios', 'vantagens_indenizadoras'\n",
    "               ]\n",
    "\n",
    "#iteração entre a lista e as colunas do DataFrame para criar o dicionário com os novos nomes\n",
    "try:\n",
    "    dicionario_colunas = {}\n",
    "    for i in range(len(remuneracao.columns)):\n",
    "        dicionario_temp = {remuneracao.columns[i]: lista_colunas[i]}\n",
    "        dicionario_colunas.update(dicionario_temp)\n",
    "\n",
    "    #altera o nome das colunas no DataFrame\n",
    "    remuneracao.rename(\n",
    "        columns=dicionario_colunas,\n",
    "        inplace=True\n",
    "    )\n",
    "    print('RENOMEAR COLUNAS = OK')\n",
    "except Exception as erro:\n",
    "    print('RENOMEAR COLUNAS = ERRO')\n",
    "    print(erro)"
   ]
  },
  {
   "cell_type": "markdown",
   "metadata": {},
   "source": [
    "### Ajuste da categoria das variáveis"
   ]
  },
  {
   "cell_type": "code",
   "execution_count": 29,
   "metadata": {},
   "outputs": [
    {
     "name": "stdout",
     "output_type": "stream",
     "text": [
      "ALTERAÇÃO DTYPES = OK\n"
     ]
    }
   ],
   "source": [
    "lista_colunas = [\n",
    "    'remuneracao_basica','vantagens_pessoais', 'funcao_comissionada', 'gratificacao_natalina', 'horas_extras', \n",
    "    'horas_eventuais','abono','reversao_teto', 'IR', 'INSS', 'falta', 'remuneracao_liquida', 'diarias', 'auxilios'\n",
    "]\n",
    "try:\n",
    "    for coluna in lista_colunas:\n",
    "        remuneracao[coluna] = remuneracao[coluna].str.replace(',', '.')\n",
    "        remuneracao[coluna] = remuneracao[coluna].astype(dtype=float)\n",
    "    print('ALTERAÇÃO DTYPES = OK')\n",
    "except Exception as erro:\n",
    "    print('ALTERAÇÃO DTYPES = ERRO')\n",
    "    print(erro)"
   ]
  },
  {
   "cell_type": "code",
   "execution_count": 30,
   "metadata": {},
   "outputs": [
    {
     "name": "stdout",
     "output_type": "stream",
     "text": [
      "<class 'pandas.core.frame.DataFrame'>\n",
      "Int64Index: 6835 entries, 0 to 11055\n",
      "Data columns (total 19 columns):\n",
      " #   Column                   Non-Null Count  Dtype  \n",
      "---  ------                   --------------  -----  \n",
      " 0   vinculo                  6835 non-null   object \n",
      " 1   categoria                6835 non-null   object \n",
      " 2   cargo                    6757 non-null   object \n",
      " 3   ano_exercicio            6835 non-null   int64  \n",
      " 4   remuneracao_basica       6835 non-null   float64\n",
      " 5   vantagens_pessoais       6835 non-null   float64\n",
      " 6   funcao_comissionada      6835 non-null   float64\n",
      " 7   gratificacao_natalina    6835 non-null   float64\n",
      " 8   horas_extras             6835 non-null   float64\n",
      " 9   horas_eventuais          6835 non-null   float64\n",
      " 10  abono                    6835 non-null   float64\n",
      " 11  reversao_teto            6835 non-null   float64\n",
      " 12  IR                       6835 non-null   float64\n",
      " 13  INSS                     6835 non-null   float64\n",
      " 14  falta                    6835 non-null   float64\n",
      " 15  remuneracao_liquida      6835 non-null   float64\n",
      " 16  diarias                  6835 non-null   float64\n",
      " 17  auxilios                 6835 non-null   float64\n",
      " 18  vantagens_indenizadoras  6835 non-null   int64  \n",
      "dtypes: float64(14), int64(2), object(3)\n",
      "memory usage: 1.0+ MB\n",
      "None\n"
     ]
    }
   ],
   "source": [
    "print(remuneracao.info())"
   ]
  },
  {
   "cell_type": "markdown",
   "metadata": {},
   "source": [
    "## Filtrar registros de 2013 em diante"
   ]
  },
  {
   "cell_type": "code",
   "execution_count": 31,
   "metadata": {},
   "outputs": [
    {
     "name": "stdout",
     "output_type": "stream",
     "text": [
      "FILTRO DOS REGISTROS = OK\n"
     ]
    }
   ],
   "source": [
    "try:\n",
    "    remuneracao = remuneracao.query(\n",
    "        'ano_exercicio >= 2013'\n",
    "    )\n",
    "    linhas_filtro, colunas_filtro = remuneracao.shape\n",
    "    \n",
    "    print('FILTRO DOS REGISTROS = OK')\n",
    "    print(f'VOLUME DE DADOS APÓS FILTRO: {linhas_filtro} LINHAS E {colunas_filtro} COLUNAS.')\n",
    "    print(f'TOTAL DE REGISTROS DESCARTADOS {linhas_atual - linhas_filtro}.')\n",
    "except Exception as erro:\n",
    "    print('FILTRO DOS REGISTROS = ERRO')\n",
    "    print(erro)"
   ]
  },
  {
   "cell_type": "markdown",
   "metadata": {},
   "source": [
    "## Gravar arquivo modificado"
   ]
  },
  {
   "cell_type": "code",
   "execution_count": 32,
   "metadata": {},
   "outputs": [
    {
     "name": "stdout",
     "output_type": "stream",
     "text": [
      "GRAVAÇÃO ARQUIVO = OK\n",
      "ARQUIVO SALVO NO DIRETÓRIO: PUBLICAM DATA >> SUBPROJETOS >> GASTOS_PUBLICOS >> SENADO_FEDERAL\n"
     ]
    }
   ],
   "source": [
    "try:\n",
    "    remuneracao.to_csv(\n",
    "        'remuneracao_servidores_senado.csv',\n",
    "        sep=';',\n",
    "        index=False\n",
    "    )\n",
    "    print('GRAVAÇÃO ARQUIVO = OK')\n",
    "    print('ARQUIVO SALVO NO DIRETÓRIO: PUBLICAM DATA >> SUBPROJETOS >> GASTOS_PUBLICOS >> SENADO_FEDERAL')\n",
    "except Exception as erro:\n",
    "    print('GRAVAÇÃO ARQUIVO = ERRO')\n",
    "    print(erro)"
   ]
  },
  {
   "cell_type": "code",
   "execution_count": null,
   "metadata": {},
   "outputs": [],
   "source": []
  }
 ],
 "metadata": {
  "kernelspec": {
   "display_name": "Python 3",
   "language": "python",
   "name": "python3"
  },
  "language_info": {
   "codemirror_mode": {
    "name": "ipython",
    "version": 3
   },
   "file_extension": ".py",
   "mimetype": "text/x-python",
   "name": "python",
   "nbconvert_exporter": "python",
   "pygments_lexer": "ipython3",
   "version": "3.7.9"
  }
 },
 "nbformat": 4,
 "nbformat_minor": 1
}
