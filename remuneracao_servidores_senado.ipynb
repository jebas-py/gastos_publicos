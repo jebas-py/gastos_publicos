{
  "cells":[
    {
      "cell_type":"markdown",
      "source":[
        "# Bibliotecas"
      ],
      "metadata":{
        
      }
    },
    {
      "cell_type":"code",
      "source":[
        "import pandas as pd"
      ],
      "execution_count":1,
      "outputs":[
        
      ],
      "metadata":{
        
      }
    },
    {
      "cell_type":"markdown",
      "source":[
        "# Extração dados da web"
      ],
      "metadata":{
        
      }
    },
    {
      "cell_type":"markdown",
      "source":[
        "## Remuneração ATUAL"
      ],
      "metadata":{
        
      }
    },
    {
      "cell_type":"code",
      "source":[
        "remuneracao = pd.read_csv(\n",
        "    'http:\/\/www.senado.leg.br\/transparencia\/LAI\/secrh\/SF_ConsultaRemuneracaoServidoresParlamentares_202101.csv',\n",
        "    engine='python',\n",
        "    delimiter=';',\n",
        "    encoding='ISO-8859-1',\n",
        "    header=1\n",
        ")\n",
        "remuneracao"
      ],
      "execution_count":7,
      "outputs":[
        {
          "data":{
            "text\/html":[
              "<div>\n",
              "<style scoped>\n",
              "    .dataframe tbody tr th:only-of-type {\n",
              "        vertical-align: middle;\n",
              "    }\n",
              "\n",
              "    .dataframe tbody tr th {\n",
              "        vertical-align: top;\n",
              "    }\n",
              "\n",
              "    .dataframe thead th {\n",
              "        text-align: right;\n",
              "    }\n",
              "<\/style>\n",
              "<table border=\"1\" class=\"dataframe\">\n",
              "  <thead>\n",
              "    <tr style=\"text-align: right;\">\n",
              "      <th><\/th>\n",
              "      <th>VÍNCULO<\/th>\n",
              "      <th>CATEGORIA<\/th>\n",
              "      <th>CARGO<\/th>\n",
              "      <th>REFERÊNCIA CARGO<\/th>\n",
              "      <th>SÍMBOLO FUNÇÃO<\/th>\n",
              "      <th>ANO EXERCÍCIO<\/th>\n",
              "      <th>LOTAÇÃO EXERCÍCIO<\/th>\n",
              "      <th>TIPO FOLHA<\/th>\n",
              "      <th>REMUN_BASICA<\/th>\n",
              "      <th>VANT_PESSOAIS<\/th>\n",
              "      <th>...<\/th>\n",
              "      <th>OUTRAS_EVENTUAIS<\/th>\n",
              "      <th>ABONO_PERMANENCIA<\/th>\n",
              "      <th>REVERSAO_TETO_CONST<\/th>\n",
              "      <th>IMPOSTO_RENDA<\/th>\n",
              "      <th>PREVIDENCIA<\/th>\n",
              "      <th>FALTAS<\/th>\n",
              "      <th>REM_LIQUIDA<\/th>\n",
              "      <th>DIARIAS<\/th>\n",
              "      <th>AUXILIOS<\/th>\n",
              "      <th>VANT_INDENIZATORIAS<\/th>\n",
              "    <\/tr>\n",
              "  <\/thead>\n",
              "  <tbody>\n",
              "    <tr>\n",
              "      <th>0<\/th>\n",
              "      <td>COMISSIONADO<\/td>\n",
              "      <td>CARGO EM COMISSÃO<\/td>\n",
              "      <td>AJUDANTE PARLAMENTAR INTERMEDIÁRIO<\/td>\n",
              "      <td>NaN<\/td>\n",
              "      <td>NaN<\/td>\n",
              "      <td>2019<\/td>\n",
              "      <td>Escritório de Apoio nº 01 do Senador Ney Suassuna<\/td>\n",
              "      <td>Normal<\/td>\n",
              "      <td>2867,96<\/td>\n",
              "      <td>0<\/td>\n",
              "      <td>...<\/td>\n",
              "      <td>0<\/td>\n",
              "      <td>0<\/td>\n",
              "      <td>0<\/td>\n",
              "      <td>-43,87<\/td>\n",
              "      <td>-386,65<\/td>\n",
              "      <td>0<\/td>\n",
              "      <td>2437,44<\/td>\n",
              "      <td>0<\/td>\n",
              "      <td>982,28<\/td>\n",
              "      <td>0<\/td>\n",
              "    <\/tr>\n",
              "    <tr>\n",
              "      <th>1<\/th>\n",
              "      <td>COMISSIONADO<\/td>\n",
              "      <td>CARGO EM COMISSÃO<\/td>\n",
              "      <td>AJUDANTE PARLAMENTAR INTERMEDIÁRIO<\/td>\n",
              "      <td>NaN<\/td>\n",
              "      <td>NaN<\/td>\n",
              "      <td>2019<\/td>\n",
              "      <td>Escritório de Apoio nº 01 do Senador Ney Suassuna<\/td>\n",
              "      <td>Suplementar<\/td>\n",
              "      <td>0<\/td>\n",
              "      <td>0<\/td>\n",
              "      <td>...<\/td>\n",
              "      <td>0<\/td>\n",
              "      <td>0<\/td>\n",
              "      <td>0<\/td>\n",
              "      <td>-116,92<\/td>\n",
              "      <td>0<\/td>\n",
              "      <td>0<\/td>\n",
              "      <td>-116,92<\/td>\n",
              "      <td>0<\/td>\n",
              "      <td>0<\/td>\n",
              "      <td>0<\/td>\n",
              "    <\/tr>\n",
              "    <tr>\n",
              "      <th>2<\/th>\n",
              "      <td>COMISSIONADO<\/td>\n",
              "      <td>CARGO EM COMISSÃO<\/td>\n",
              "      <td>AJUDANTE PARLAMENTAR INTERMEDIÁRIO<\/td>\n",
              "      <td>NaN<\/td>\n",
              "      <td>NaN<\/td>\n",
              "      <td>2013<\/td>\n",
              "      <td>Serviço de Apoio às Contratações de TI<\/td>\n",
              "      <td>Normal<\/td>\n",
              "      <td>2850,07<\/td>\n",
              "      <td>0<\/td>\n",
              "      <td>...<\/td>\n",
              "      <td>0<\/td>\n",
              "      <td>0<\/td>\n",
              "      <td>0<\/td>\n",
              "      <td>-15,42<\/td>\n",
              "      <td>-386,65<\/td>\n",
              "      <td>0<\/td>\n",
              "      <td>2448<\/td>\n",
              "      <td>0<\/td>\n",
              "      <td>1071,74<\/td>\n",
              "      <td>0<\/td>\n",
              "    <\/tr>\n",
              "    <tr>\n",
              "      <th>3<\/th>\n",
              "      <td>COMISSIONADO<\/td>\n",
              "      <td>CARGO EM COMISSÃO<\/td>\n",
              "      <td>AJUDANTE PARLAMENTAR INTERMEDIÁRIO<\/td>\n",
              "      <td>NaN<\/td>\n",
              "      <td>NaN<\/td>\n",
              "      <td>2013<\/td>\n",
              "      <td>Serviço de Apoio às Contratações de TI<\/td>\n",
              "      <td>Suplementar<\/td>\n",
              "      <td>0<\/td>\n",
              "      <td>0<\/td>\n",
              "      <td>...<\/td>\n",
              "      <td>0<\/td>\n",
              "      <td>0<\/td>\n",
              "      <td>0<\/td>\n",
              "      <td>-88,48<\/td>\n",
              "      <td>0<\/td>\n",
              "      <td>0<\/td>\n",
              "      <td>-88,48<\/td>\n",
              "      <td>0<\/td>\n",
              "      <td>-17,89<\/td>\n",
              "      <td>0<\/td>\n",
              "    <\/tr>\n",
              "    <tr>\n",
              "      <th>4<\/th>\n",
              "      <td>COMISSIONADO<\/td>\n",
              "      <td>CARGO EM COMISSÃO<\/td>\n",
              "      <td>AJUDANTE PARLAMENTAR INTERMEDIÁRIO<\/td>\n",
              "      <td>NaN<\/td>\n",
              "      <td>NaN<\/td>\n",
              "      <td>2007<\/td>\n",
              "      <td>Escritório de Apoio nº 02 do Senador Acir Gurgacz<\/td>\n",
              "      <td>Normal<\/td>\n",
              "      <td>2867,96<\/td>\n",
              "      <td>0<\/td>\n",
              "      <td>...<\/td>\n",
              "      <td>0<\/td>\n",
              "      <td>0<\/td>\n",
              "      <td>0<\/td>\n",
              "      <td>-43,87<\/td>\n",
              "      <td>-386,65<\/td>\n",
              "      <td>0<\/td>\n",
              "      <td>2437,44<\/td>\n",
              "      <td>0<\/td>\n",
              "      <td>982,28<\/td>\n",
              "      <td>0<\/td>\n",
              "    <\/tr>\n",
              "    <tr>\n",
              "      <th>...<\/th>\n",
              "      <td>...<\/td>\n",
              "      <td>...<\/td>\n",
              "      <td>...<\/td>\n",
              "      <td>...<\/td>\n",
              "      <td>...<\/td>\n",
              "      <td>...<\/td>\n",
              "      <td>...<\/td>\n",
              "      <td>...<\/td>\n",
              "      <td>...<\/td>\n",
              "      <td>...<\/td>\n",
              "      <td>...<\/td>\n",
              "      <td>...<\/td>\n",
              "      <td>...<\/td>\n",
              "      <td>...<\/td>\n",
              "      <td>...<\/td>\n",
              "      <td>...<\/td>\n",
              "      <td>...<\/td>\n",
              "      <td>...<\/td>\n",
              "      <td>...<\/td>\n",
              "      <td>...<\/td>\n",
              "      <td>...<\/td>\n",
              "    <\/tr>\n",
              "    <tr>\n",
              "      <th>11051<\/th>\n",
              "      <td>PARLAMENTAR<\/td>\n",
              "      <td>PARLAMENTAR<\/td>\n",
              "      <td>NaN<\/td>\n",
              "      <td>NaN<\/td>\n",
              "      <td>NaN<\/td>\n",
              "      <td>2019<\/td>\n",
              "      <td>Gabinete do Senador Jaques Wagner<\/td>\n",
              "      <td>Normal<\/td>\n",
              "      <td>33763<\/td>\n",
              "      <td>0<\/td>\n",
              "      <td>...<\/td>\n",
              "      <td>0<\/td>\n",
              "      <td>0<\/td>\n",
              "      <td>0<\/td>\n",
              "      <td>-6913,16<\/td>\n",
              "      <td>-5462,9<\/td>\n",
              "      <td>0<\/td>\n",
              "      <td>21386,94<\/td>\n",
              "      <td>0<\/td>\n",
              "      <td>0<\/td>\n",
              "      <td>0<\/td>\n",
              "    <\/tr>\n",
              "    <tr>\n",
              "      <th>11052<\/th>\n",
              "      <td>PARLAMENTAR<\/td>\n",
              "      <td>PARLAMENTAR<\/td>\n",
              "      <td>NaN<\/td>\n",
              "      <td>NaN<\/td>\n",
              "      <td>NaN<\/td>\n",
              "      <td>2019<\/td>\n",
              "      <td>Gabinete do Senador Jaques Wagner<\/td>\n",
              "      <td>Suplementar<\/td>\n",
              "      <td>0<\/td>\n",
              "      <td>0<\/td>\n",
              "      <td>...<\/td>\n",
              "      <td>0<\/td>\n",
              "      <td>0<\/td>\n",
              "      <td>0<\/td>\n",
              "      <td>0<\/td>\n",
              "      <td>0<\/td>\n",
              "      <td>0<\/td>\n",
              "      <td>0<\/td>\n",
              "      <td>0<\/td>\n",
              "      <td>5500<\/td>\n",
              "      <td>0<\/td>\n",
              "    <\/tr>\n",
              "    <tr>\n",
              "      <th>11053<\/th>\n",
              "      <td>PARLAMENTAR<\/td>\n",
              "      <td>PARLAMENTAR<\/td>\n",
              "      <td>NaN<\/td>\n",
              "      <td>NaN<\/td>\n",
              "      <td>NaN<\/td>\n",
              "      <td>2020<\/td>\n",
              "      <td>Gabinete do Senador Carlos Fávaro<\/td>\n",
              "      <td>Normal<\/td>\n",
              "      <td>33763<\/td>\n",
              "      <td>0<\/td>\n",
              "      <td>...<\/td>\n",
              "      <td>0<\/td>\n",
              "      <td>0<\/td>\n",
              "      <td>0<\/td>\n",
              "      <td>-8156,53<\/td>\n",
              "      <td>-751,99<\/td>\n",
              "      <td>0<\/td>\n",
              "      <td>24854,48<\/td>\n",
              "      <td>0<\/td>\n",
              "      <td>0<\/td>\n",
              "      <td>0<\/td>\n",
              "    <\/tr>\n",
              "    <tr>\n",
              "      <th>11054<\/th>\n",
              "      <td>PARLAMENTAR<\/td>\n",
              "      <td>PARLAMENTAR<\/td>\n",
              "      <td>NaN<\/td>\n",
              "      <td>NaN<\/td>\n",
              "      <td>NaN<\/td>\n",
              "      <td>2020<\/td>\n",
              "      <td>Gabinete do Senador Carlos Portinho<\/td>\n",
              "      <td>Normal<\/td>\n",
              "      <td>33763<\/td>\n",
              "      <td>0<\/td>\n",
              "      <td>...<\/td>\n",
              "      <td>0<\/td>\n",
              "      <td>0<\/td>\n",
              "      <td>0<\/td>\n",
              "      <td>-8156,53<\/td>\n",
              "      <td>-751,99<\/td>\n",
              "      <td>0<\/td>\n",
              "      <td>24854,48<\/td>\n",
              "      <td>0<\/td>\n",
              "      <td>0<\/td>\n",
              "      <td>0<\/td>\n",
              "    <\/tr>\n",
              "    <tr>\n",
              "      <th>11055<\/th>\n",
              "      <td>PARLAMENTAR<\/td>\n",
              "      <td>PLANO DOS CONGRESSISTAS<\/td>\n",
              "      <td>APOSENTADORIA PARLAMENTAR IPC\/PSSC<\/td>\n",
              "      <td>SVAL<\/td>\n",
              "      <td>NaN<\/td>\n",
              "      <td>2018<\/td>\n",
              "      <td>Aposentados - SF<\/td>\n",
              "      <td>Normal<\/td>\n",
              "      <td>12540,54<\/td>\n",
              "      <td>0<\/td>\n",
              "      <td>...<\/td>\n",
              "      <td>0<\/td>\n",
              "      <td>0<\/td>\n",
              "      <td>0<\/td>\n",
              "      <td>-2327,39<\/td>\n",
              "      <td>-915,98<\/td>\n",
              "      <td>0<\/td>\n",
              "      <td>9297,17<\/td>\n",
              "      <td>0<\/td>\n",
              "      <td>0<\/td>\n",
              "      <td>0<\/td>\n",
              "    <\/tr>\n",
              "  <\/tbody>\n",
              "<\/table>\n",
              "<p>11056 rows × 23 columns<\/p>\n",
              "<\/div>"
            ]
          },
          "metadata":{
            
          },
          "output_type":"display_data"
        }
      ],
      "metadata":{
        
      }
    },
    {
      "cell_type":"markdown",
      "source":[
        "## Data carga de dados ATUAL"
      ],
      "metadata":{
        
      }
    },
    {
      "cell_type":"code",
      "source":[
        "data_carga_atual = despesas['Data da Carga da Base'].unique()[0]\n",
        "linhas_atual = despesas.shape[0]\n",
        "colunas_atual = despesas.shape[1]\n",
        "\n",
        "print(f'DATA CARGA DE DADOS ATUAL: {data_carga_atual}.')\n",
        "print(f'VOLUME DA ÚLTIMA CARGA DE DADOS: {linhas_atual} LINHAS E {colunas_atual} COLUNAS.')"
      ],
      "execution_count":0,
      "outputs":[
        
      ],
      "metadata":{
        
      }
    },
    {
      "cell_type":"markdown",
      "source":[
        "## Despesas ANTERIOR"
      ],
      "metadata":{
        
      }
    },
    {
      "cell_type":"code",
      "source":[
        "despesas_anterior = pd.read_csv(\n",
        "    '\/data\/workspace_files\/despesas_senado.csv',\n",
        "    delimiter=';'\n",
        ")\n",
        "despesas_anterior"
      ],
      "execution_count":0,
      "outputs":[
        
      ],
      "metadata":{
        
      }
    },
    {
      "cell_type":"markdown",
      "source":[
        "## Data da ANTERIOR carga de dados"
      ],
      "metadata":{
        
      }
    },
    {
      "cell_type":"code",
      "source":[
        "data_carga_anterior = despesas_anterior['data_carga'].unique()[0]\n",
        "linhas_anterior = despesas_anterior.shape[0]\n",
        "colunas_anterior = despesas_anterior.shape[1]\n",
        "\n",
        "print(f'DATA DA ÚLTIMA CARGA DE DADOS: {data_carga_anterior}.')\n",
        "print(f'VOLUME DA ÚLTIMA CARGA DE DADOS: {linhas_anterior} LINHAS E {colunas_anterior} COLUNAS.')\n",
        "print('A quantidade de colunas será menor, pois foram excluídas ao longo do tratamento.')"
      ],
      "execution_count":0,
      "outputs":[
        
      ],
      "metadata":{
        
      }
    },
    {
      "cell_type":"markdown",
      "source":[
        "## Informações da base"
      ],
      "metadata":{
        
      }
    },
    {
      "cell_type":"code",
      "source":[
        "remuneracao.info()"
      ],
      "execution_count":10,
      "outputs":[
        {
          "name":"stdout",
          "text":[
            "<class 'pandas.core.frame.DataFrame'>\n",
            "RangeIndex: 11056 entries, 0 to 11055\n",
            "Data columns (total 23 columns):\n",
            " #   Column                                                                                                                                                                                                                                                                                                                                                                                                                                                                                                                                                                                                                                                                                                                                   Non-Null Count  Dtype \n",
            "---  ------                                                                                                                                                                                                                                                                                                                                                                                                                                                                                                                                                                                                                                                                                                                                   --------------  ----- \n",
            " 0   VÍNCULO                                                                                                                                                                                                                                                                                                                                                                                                                                                                                                                                                                                                                                                                                                                                  11056 non-null  object\n",
            " 1   CATEGORIA                                                                                                                                                                                                                                                                                                                                                                                                                                                                                                                                                                                                                                                                                                                                11056 non-null  object\n",
            " 2   CARGO                                                                                                                                                                                                                                                                                                                                                                                                                                                                                                                                                                                                                                                                                                                                    10969 non-null  object\n",
            " 3   REFERÊNCIA CARGO                                                                                                                                                                                                                                                                                                                                                                                                                                                                                                                                                                                                                                                                                                                         3887 non-null   object\n",
            " 4   SÍMBOLO FUNÇÃO                                                                                                                                                                                                                                                                                                                                                                                                                                                                                                                                                                                                                                                                                                                           2095 non-null   object\n",
            " 5   ANO EXERCÍCIO                                                                                                                                                                                                                                                                                                                                                                                                                                                                                                                                                                                                                                                                                                                            11056 non-null  int64 \n",
            " 6   LOTAÇÃO EXERCÍCIO                                                                                                                                                                                                                                                                                                                                                                                                                                                                                                                                                                                                                                                                                                                        11056 non-null  object\n",
            " 7    TIPO FOLHA                                                                                                                                                                                                                                                                                                                                                                                                                                                                                                                                                                                                                                                                                                                              11056 non-null  object\n",
            " 8   REMUN_BASICA                                                                                                                                                                                                                                                                                                                                                                                                                                                                                                                                                                                                                                                                                                                             11056 non-null  object\n",
            " 9   VANT_PESSOAIS                                                                                                                                                                                                                                                                                                                                                                                                                                                                                                                                                                                                                                                                                                                            11056 non-null  object\n",
            " 10  FUNC_COMISSIONADA                                                                                                                                                                                                                                                                                                                                                                                                                                                                                                                                                                                                                                                                                                                        11056 non-null  object\n",
            " 11  GRAT_NATALINA                                                                                                                                                                                                                                                                                                                                                                                                                                                                                                                                                                                                                                                                                                                            11056 non-null  object\n",
            " 12  HORAS_EXTRAS                                                                                                                                                                                                                                                                                                                                                                                                                                                                                                                                                                                                                                                                                                                             11056 non-null  object\n",
            " 13  OUTRAS_EVENTUAIS                                                                                                                                                                                                                                                                                                                                                                                                                                                                                                                                                                                                                                                                                                                         11056 non-null  object\n",
            " 14  ABONO_PERMANENCIA                                                                                                                                                                                                                                                                                                                                                                                                                                                                                                                                                                                                                                                                                                                        11056 non-null  object\n",
            " 15  REVERSAO_TETO_CONST                                                                                                                                                                                                                                                                                                                                                                                                                                                                                                                                                                                                                                                                                                                      11056 non-null  object\n",
            " 16  IMPOSTO_RENDA                                                                                                                                                                                                                                                                                                                                                                                                                                                                                                                                                                                                                                                                                                                            11056 non-null  object\n",
            " 17  PREVIDENCIA                                                                                                                                                                                                                                                                                                                                                                                                                                                                                                                                                                                                                                                                                                                              11056 non-null  object\n",
            " 18  FALTAS                                                                                                                                                                                                                                                                                                                                                                                                                                                                                                                                                                                                                                                                                                                                   11056 non-null  object\n",
            " 19  REM_LIQUIDA                                                                                                                                                                                                                                                                                                                                                                                                                                                                                                                                                                                                                                                                                                                              11056 non-null  object\n",
            " 20  DIARIAS                                                                                                                                                                                                                                                                                                                                                                                                                                                                                                                                                                                                                                                                                                                                  11056 non-null  object\n",
            " 21  AUXILIOS                                                                                                                                                                                                                                                                                                                                                                                                                                                                                                                                                                                                                                                                                                                                 11056 non-null  object\n",
            " 22  VANT_INDENIZATORIAS                                                                                                                                                                                                                                                                                                                                                                                                                                                                                                                                                                                                                                                                                                                      11056 non-null  int64 \n",
            "dtypes: int64(2), object(21)\n",
            "memory usage: 1.9+ MB\n"
          ],
          "output_type":"stream"
        }
      ],
      "metadata":{
        
      }
    },
    {
      "cell_type":"markdown",
      "source":[
        "## Tratamento"
      ],
      "metadata":{
        
      }
    },
    {
      "cell_type":"markdown",
      "source":[
        "### Excluir colunas desnecessárias"
      ],
      "metadata":{
        
      }
    },
    {
      "cell_type":"code",
      "source":[
        "despesas.drop(\n",
        "    columns=[\n",
        "        'Ação (código)', \n",
        "        'Plano Orçamentário (código)', \n",
        "        'Grupo de Despesa (código)',\n",
        "        'Resultado Lei (código)',\n",
        "        'Resultado Lei (nome)',\n",
        "        'Modalidade de Aplicação (código)',\n",
        "        'Fonte (código)'\n",
        "    ],\n",
        "    inplace=True\n",
        ")"
      ],
      "execution_count":0,
      "outputs":[
        
      ],
      "metadata":{
        
      }
    },
    {
      "cell_type":"markdown",
      "source":[
        "### Renomear colunas"
      ],
      "metadata":{
        
      }
    },
    {
      "cell_type":"code",
      "source":[
        "#lista com novos nomes de colunas\n",
        "lista_colunas = ['data_carga', 'exercicio_financeiro', 'acao', 'plano_orcamentario', 'grupo_despesa',\n",
        "    'modalidade_aplicacao', 'fonte','valor_dotacao_inicial', 'valor_dotacao_atualizado', 'valor_total_empenhado',\n",
        "    'valor_liquidado','valor_pago']\n",
        "\n",
        "#iteração entre a lista e as colunas do DataFrame para criar o dicionário com os novos nomes\n",
        "dicionario_colunas = {}\n",
        "for i in range(len(despesas.columns)):\n",
        "    dicionario_temp = {despesas.columns[i]: lista_colunas[i]}\n",
        "    dicionario_colunas.update(dicionario_temp)\n",
        "\n",
        "#altera o nome das colunas no DataFrame\n",
        "despesas.rename(\n",
        "    columns=dicionario_colunas,\n",
        "    inplace=True\n",
        ")"
      ],
      "execution_count":0,
      "outputs":[
        
      ],
      "metadata":{
        
      }
    },
    {
      "cell_type":"markdown",
      "source":[
        "### Ajuste da categoria das variáveis"
      ],
      "metadata":{
        
      }
    },
    {
      "cell_type":"code",
      "source":[
        "lista_colunas = ['valor_dotacao_inicial', 'valor_dotacao_atualizado', 'valor_total_empenhado','valor_liquidado','valor_pago']\n",
        "\n",
        "for coluna in lista_colunas:\n",
        "    despesas[coluna] = despesas[coluna].str.replace(',', '.')\n",
        "    despesas[coluna] = despesas[coluna].astype(dtype=float)"
      ],
      "execution_count":0,
      "outputs":[
        
      ],
      "metadata":{
        
      }
    },
    {
      "cell_type":"markdown",
      "source":[
        "## Gravar arquivo modificado"
      ],
      "metadata":{
        
      }
    },
    {
      "cell_type":"markdown",
      "source":[
        "### <font color=red>Somente fazer a gravação e sobreposição do arquivo se verificado que o mesmo está OK"
      ],
      "metadata":{
        
      }
    },
    {
      "cell_type":"code",
      "source":[
        "'''despesas.to_csv(\n",
        "    '\/data\/workspace_files\/despesas_senado.csv',\n",
        "    sep=';',\n",
        "    index=False\n",
        ")'''"
      ],
      "execution_count":0,
      "outputs":[
        
      ],
      "metadata":{
        
      }
    }
  ],
  "metadata":{
    
  },
  "nbformat":4,
  "nbformat_minor":0
}