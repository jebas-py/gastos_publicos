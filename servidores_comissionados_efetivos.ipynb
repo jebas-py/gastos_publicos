{
 "cells": [
  {
   "cell_type": "markdown",
   "metadata": {},
   "source": [
    "# Versões e Bibliotecas"
   ]
  },
  {
   "cell_type": "code",
   "execution_count": 1,
   "metadata": {},
   "outputs": [
    {
     "name": "stdout",
     "output_type": "stream",
     "text": [
      "Pandas versão: 1.1.3\n"
     ]
    }
   ],
   "source": [
    "#versão do Pandas utilizada foi a '1.1.3 / se houver atualização o notebook instalará versão original\n",
    "import pandas as pd\n",
    "\n",
    "versao = pd.__version__\n",
    "if versao != '1.1.3':\n",
    "    !pip install pandas==1.1.3\n",
    "    print(f'Pandas versão: {versao}')\n",
    "else:\n",
    "    print(f'Pandas versão: {versao}')\n",
    "\n",
    "#importar date do módulo daterime para obter o dia da extração\n",
    "from datetime import date"
   ]
  },
  {
   "cell_type": "markdown",
   "metadata": {},
   "source": [
    "# Backup arquivo anterior"
   ]
  },
  {
   "cell_type": "code",
   "execution_count": 2,
   "metadata": {},
   "outputs": [
    {
     "name": "stdout",
     "output_type": "stream",
     "text": [
      "BACKUP = OK\n"
     ]
    }
   ],
   "source": [
    "try:\n",
    "    backup = pd.read_csv(\n",
    "        'servidores_senado.csv',\n",
    "        engine='python',\n",
    "        delimiter=';',\n",
    "        encoding='utf-8'\n",
    "    )\n",
    "\n",
    "    backup.to_csv(\n",
    "        'servidores_senado_backup.csv',\n",
    "        sep=';',\n",
    "        encoding='utf-8',\n",
    "        index=False\n",
    "    )\n",
    "    print('BACKUP = OK')\n",
    "except Exception as erro:\n",
    "    print('BACKUP = ERRO')\n",
    "    print(erro)"
   ]
  },
  {
   "cell_type": "markdown",
   "metadata": {},
   "source": [
    "# Extração do arquivo web"
   ]
  },
  {
   "cell_type": "code",
   "execution_count": 3,
   "metadata": {},
   "outputs": [
    {
     "name": "stdout",
     "output_type": "stream",
     "text": [
      "EXTRAÇÃO DE DADOS EM 2021-03-04 = OK\n"
     ]
    }
   ],
   "source": [
    "try:\n",
    "    servidores = pd.read_csv(\n",
    "        'http://www.senado.gov.br/transparencia/LAI/secrh/todos_csv.csv',\n",
    "        engine='python',\n",
    "        encoding='ISO-8859-1',\n",
    "        delimiter=';',\n",
    "        header=1\n",
    "    )\n",
    "    data_extracao = date.today()\n",
    "    print(f'EXTRAÇÃO DE DADOS EM {data_extracao} = OK')\n",
    "except Exception as erro:\n",
    "    data_extracao = date.today()\n",
    "    print(f'EXTRAÇÃO DE DADOS EM {data_extracao} = ERRO')\n",
    "    print(erro)"
   ]
  },
  {
   "cell_type": "markdown",
   "metadata": {},
   "source": [
    "## Informações da base de dados"
   ]
  },
  {
   "cell_type": "code",
   "execution_count": 11,
   "metadata": {},
   "outputs": [
    {
     "name": "stdout",
     "output_type": "stream",
     "text": [
      "-=-=-=-=-=-=-=-=-=-=-=-=-=-=-=-=-=-=-=-=-=-=-=-=-=-=-=-=-=-=\n",
      "ARQUIVO COM 5796 LINHAS E 6 COLUNAS.\n",
      "-=-=-=-=-=-=-=-=-=-=-=-=-=-=-=-=-=-=-=-=-=-=-=-=-=-=-=-=-=-=\n",
      "<class 'pandas.core.frame.DataFrame'>\n",
      "RangeIndex: 5796 entries, 0 to 5795\n",
      "Data columns (total 6 columns):\n",
      " #   Column           Non-Null Count  Dtype \n",
      "---  ------           --------------  ----- \n",
      " 0   setor            5796 non-null   object\n",
      " 1   setor_exercicio  5796 non-null   object\n",
      " 2   nome             5796 non-null   object\n",
      " 3   tipo_vinculo     5796 non-null   object\n",
      " 4   data_admissao    5796 non-null   object\n",
      " 5   funcao           4889 non-null   object\n",
      "dtypes: object(6)\n",
      "memory usage: 271.8+ KB\n",
      "None\n"
     ]
    }
   ],
   "source": [
    "linhas, colunas = servidores.shape\n",
    "\n",
    "print('-=' * 30)\n",
    "print(f'ARQUIVO COM {linhas} LINHAS E {colunas} COLUNAS.')\n",
    "print('-=' * 30)\n",
    "\n",
    "print(servidores.info())"
   ]
  },
  {
   "cell_type": "markdown",
   "metadata": {},
   "source": [
    "# Tratamento"
   ]
  },
  {
   "cell_type": "markdown",
   "metadata": {},
   "source": [
    "## Excluir colunas"
   ]
  },
  {
   "cell_type": "code",
   "execution_count": 5,
   "metadata": {},
   "outputs": [
    {
     "name": "stdout",
     "output_type": "stream",
     "text": [
      "EXTRAÇÃO DE COLUNAS = OK\n"
     ]
    }
   ],
   "source": [
    "try:\n",
    "    servidores.drop(\n",
    "        columns=[\n",
    "            'SETOR1',\n",
    "            'SETOR3',\n",
    "            'SETOR4',\n",
    "            'SETOR5',\n",
    "            'SETOR6',\n",
    "            'SETOR7',\n",
    "            'CARGO',\n",
    "            'CATEGORIA',\n",
    "            'AFASTAMENTO',\n",
    "            'ISENÇÃO DO PONTO                                                                                                                                                                                                                                                                                                                                                                                                                                                                                                                                                                                                                                                                                                                                                                                                                                                                                      '\n",
    "        ],\n",
    "        inplace=True\n",
    "    )\n",
    "    print('EXTRAÇÃO DE COLUNAS = OK')\n",
    "except Exception as erro:\n",
    "    print('EXTRAÇÃO DE COLUNAS = ERRO')\n",
    "    print(erro)"
   ]
  },
  {
   "cell_type": "markdown",
   "metadata": {},
   "source": [
    "## Separar colunas SETOR2 e SETOR_EXERCICIO"
   ]
  },
  {
   "cell_type": "code",
   "execution_count": 7,
   "metadata": {},
   "outputs": [
    {
     "name": "stdout",
     "output_type": "stream",
     "text": [
      "SEPARAÇÃO DE COLUNAS = OK\n"
     ]
    }
   ],
   "source": [
    "try:\n",
    "    #fazer o split da coluna SETOR2 pelo traço\n",
    "    setor2 = servidores['SETOR2'].str.split(' - ', n=1, expand=True)[1]\n",
    "    servidores['SETOR2'] = setor2\n",
    "\n",
    "    #fazer o split da coluna SETOR_EXERCICIO pelo traço/espaço\n",
    "    setor_exercicio = servidores['SETOR_EXERCICIO'].str.split(' - ', n=1, expand=True)[1]\n",
    "    servidores['SETOR_EXERCICIO'] = setor_exercicio\n",
    "    print('SEPARAÇÃO DE COLUNAS = OK')\n",
    "except Exception as erro:\n",
    "    print('SEPARAÇÃO DE COLUNAS = ERRO')\n",
    "    print(erro)"
   ]
  },
  {
   "cell_type": "markdown",
   "metadata": {},
   "source": [
    "## Renomear colunas"
   ]
  },
  {
   "cell_type": "code",
   "execution_count": 8,
   "metadata": {},
   "outputs": [
    {
     "name": "stdout",
     "output_type": "stream",
     "text": [
      "RENOMEAR COLUNAS = OK\n"
     ]
    }
   ],
   "source": [
    "#lista com novos nomes de colunas\n",
    "lista_colunas = ['setor', 'setor_exercicio', 'nome', 'tipo_vinculo', 'data_admissao', 'funcao']\n",
    "\n",
    "#iteração entre a lista e as colunas do DataFrame para criar o dicionário com os novos nomes\n",
    "try:\n",
    "    dicionario_colunas = {}\n",
    "    for i in range(len(servidores.columns)):\n",
    "        dicionario_temp = {servidores.columns[i]: lista_colunas[i]}\n",
    "        dicionario_colunas.update(dicionario_temp)\n",
    "\n",
    "    #altera o nome das colunas no DataFrame\n",
    "    servidores.rename(\n",
    "        columns=dicionario_colunas,\n",
    "        inplace=True\n",
    "    )\n",
    "    print('RENOMEAR COLUNAS = OK')\n",
    "except Exception as erro:\n",
    "    print('RENOMEAR COLUNAS = ERRO')\n",
    "    print(erro)"
   ]
  },
  {
   "cell_type": "markdown",
   "metadata": {},
   "source": [
    "## Formato do arquivo"
   ]
  },
  {
   "cell_type": "code",
   "execution_count": 9,
   "metadata": {},
   "outputs": [
    {
     "name": "stdout",
     "output_type": "stream",
     "text": [
      "=-=-=-=-=-=-=-=-=-=-=-=-=-=-=-=-=-=-=-=-=-=-=-=-=-=-=-=-=-=-\n",
      "FORMATO FINAL DO ARQUIVO\n",
      "=-=-=-=-=-=-=-=-=-=-=-=-=-=-=-=-=-=-=-=-=-=-=-=-=-=-=-=-=-=-\n",
      "<class 'pandas.core.frame.DataFrame'>\n",
      "RangeIndex: 5796 entries, 0 to 5795\n",
      "Data columns (total 6 columns):\n",
      " #   Column           Non-Null Count  Dtype \n",
      "---  ------           --------------  ----- \n",
      " 0   setor            5796 non-null   object\n",
      " 1   setor_exercicio  5796 non-null   object\n",
      " 2   nome             5796 non-null   object\n",
      " 3   tipo_vinculo     5796 non-null   object\n",
      " 4   data_admissao    5796 non-null   object\n",
      " 5   funcao           4889 non-null   object\n",
      "dtypes: object(6)\n",
      "memory usage: 271.8+ KB\n",
      "None\n"
     ]
    }
   ],
   "source": [
    "print('=-' * 30)\n",
    "print('FORMATO FINAL DO ARQUIVO')\n",
    "print('=-' * 30)\n",
    "\n",
    "print(servidores.info())"
   ]
  },
  {
   "cell_type": "markdown",
   "metadata": {},
   "source": [
    "# Gravação"
   ]
  },
  {
   "cell_type": "code",
   "execution_count": 12,
   "metadata": {},
   "outputs": [
    {
     "name": "stdout",
     "output_type": "stream",
     "text": [
      "GRAVAÇÃO ARQUIVO = OK\n",
      "ARQUIVO SALVO NO DIRETÓRIO: PUBLICAM DATA >> SUBPROJETOS >> GASTOS_PUBLICOS >> SENADO_FEDERAL\n"
     ]
    }
   ],
   "source": [
    "try:\n",
    "    servidores.to_csv(\n",
    "        'servidores_senado.csv',\n",
    "        sep=';',\n",
    "        encoding='utf-8',\n",
    "        index=False\n",
    "    )\n",
    "    print('GRAVAÇÃO ARQUIVO = OK')\n",
    "    print('ARQUIVO SALVO NO DIRETÓRIO: PUBLICAM DATA >> SUBPROJETOS >> GASTOS_PUBLICOS >> SENADO_FEDERAL')\n",
    "except Exception as erro:\n",
    "    print('GRAVAÇÃO ARQUIVO = ERRO')\n",
    "    print(erro)"
   ]
  }
 ],
 "metadata": {
  "kernelspec": {
   "display_name": "Python 3",
   "language": "python",
   "name": "python3"
  },
  "language_info": {
   "codemirror_mode": {
    "name": "ipython",
    "version": 3
   },
   "file_extension": ".py",
   "mimetype": "text/x-python",
   "name": "python",
   "nbconvert_exporter": "python",
   "pygments_lexer": "ipython3",
   "version": "3.7.9"
  }
 },
 "nbformat": 4,
 "nbformat_minor": 1
}
